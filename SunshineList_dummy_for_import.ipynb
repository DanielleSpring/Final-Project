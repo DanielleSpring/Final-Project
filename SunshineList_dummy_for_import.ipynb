{
 "cells": [
  {
   "cell_type": "markdown",
   "id": "4f0168b9",
   "metadata": {},
   "source": [
    "# Sunshine List "
   ]
  },
  {
   "cell_type": "code",
   "execution_count": 1,
   "id": "b8134e6f",
   "metadata": {},
   "outputs": [],
   "source": [
    "# Cleaning of the Sunshine List\n",
    "#import dependencies\n",
    "import pandas as pd\n",
    "import re\n",
    "import numpy as np"
   ]
  },
  {
   "cell_type": "code",
   "execution_count": 2,
   "id": "b286d703",
   "metadata": {},
   "outputs": [],
   "source": [
    "#File to Load 1996 t0 2019 to be used as dummy data\n",
    "sunshine_data_to_load = \"Raw Data CSV files/SunShine.csv\""
   ]
  },
  {
   "cell_type": "code",
   "execution_count": 3,
   "id": "e288b72b",
   "metadata": {},
   "outputs": [],
   "source": [
    "# ***TO DO***\n",
    "# Add sunshine 2020 csv to sunshine_data_df"
   ]
  },
  {
   "cell_type": "code",
   "execution_count": 4,
   "id": "c3c5378a",
   "metadata": {},
   "outputs": [
    {
     "data": {
      "text/html": [
       "<div>\n",
       "<style scoped>\n",
       "    .dataframe tbody tr th:only-of-type {\n",
       "        vertical-align: middle;\n",
       "    }\n",
       "\n",
       "    .dataframe tbody tr th {\n",
       "        vertical-align: top;\n",
       "    }\n",
       "\n",
       "    .dataframe thead th {\n",
       "        text-align: right;\n",
       "    }\n",
       "</style>\n",
       "<table border=\"1\" class=\"dataframe\">\n",
       "  <thead>\n",
       "    <tr style=\"text-align: right;\">\n",
       "      <th></th>\n",
       "      <th>Sector</th>\n",
       "      <th>Last Name</th>\n",
       "      <th>First Name</th>\n",
       "      <th>Salary Paid</th>\n",
       "      <th>Taxable Benefits</th>\n",
       "      <th>Employer</th>\n",
       "      <th>Job Title</th>\n",
       "      <th>Calendar Year</th>\n",
       "    </tr>\n",
       "  </thead>\n",
       "  <tbody>\n",
       "    <tr>\n",
       "      <th>0</th>\n",
       "      <td>COLLEGES</td>\n",
       "      <td>Gillett</td>\n",
       "      <td>Robert</td>\n",
       "      <td>127332.0</td>\n",
       "      <td>3633.0</td>\n",
       "      <td>Algonquin College of Applied Arts and Technology</td>\n",
       "      <td>President</td>\n",
       "      <td>1996</td>\n",
       "    </tr>\n",
       "    <tr>\n",
       "      <th>1</th>\n",
       "      <td>COLLEGES</td>\n",
       "      <td>Hanson</td>\n",
       "      <td>Raymonde</td>\n",
       "      <td>102999.0</td>\n",
       "      <td>5557.0</td>\n",
       "      <td>Algonquin College of Applied Arts and Technology</td>\n",
       "      <td>V.P., Academic</td>\n",
       "      <td>1996</td>\n",
       "    </tr>\n",
       "    <tr>\n",
       "      <th>2</th>\n",
       "      <td>COLLEGES</td>\n",
       "      <td>Killeen</td>\n",
       "      <td>Philip</td>\n",
       "      <td>183482.0</td>\n",
       "      <td>878.0</td>\n",
       "      <td>Algonquin College of Applied Arts and Technology</td>\n",
       "      <td>Past President</td>\n",
       "      <td>1996</td>\n",
       "    </tr>\n",
       "    <tr>\n",
       "      <th>3</th>\n",
       "      <td>COLLEGES</td>\n",
       "      <td>Mitchelson</td>\n",
       "      <td>Robert</td>\n",
       "      <td>106608.0</td>\n",
       "      <td>5586.0</td>\n",
       "      <td>Algonquin College of Applied Arts and Technology</td>\n",
       "      <td>V.P., Finance &amp; Administration</td>\n",
       "      <td>1996</td>\n",
       "    </tr>\n",
       "    <tr>\n",
       "      <th>4</th>\n",
       "      <td>COLLEGES</td>\n",
       "      <td>Crombie</td>\n",
       "      <td>Glenn</td>\n",
       "      <td>111655.0</td>\n",
       "      <td>3177.0</td>\n",
       "      <td>Cambrian College of Applied Arts &amp; Technology</td>\n",
       "      <td>President</td>\n",
       "      <td>1996</td>\n",
       "    </tr>\n",
       "  </tbody>\n",
       "</table>\n",
       "</div>"
      ],
      "text/plain": [
       "     Sector   Last Name First Name  Salary Paid  Taxable Benefits  \\\n",
       "0  COLLEGES     Gillett     Robert     127332.0            3633.0   \n",
       "1  COLLEGES      Hanson   Raymonde     102999.0            5557.0   \n",
       "2  COLLEGES     Killeen     Philip     183482.0             878.0   \n",
       "3  COLLEGES  Mitchelson     Robert     106608.0            5586.0   \n",
       "4  COLLEGES     Crombie      Glenn     111655.0            3177.0   \n",
       "\n",
       "                                           Employer  \\\n",
       "0  Algonquin College of Applied Arts and Technology   \n",
       "1  Algonquin College of Applied Arts and Technology   \n",
       "2  Algonquin College of Applied Arts and Technology   \n",
       "3  Algonquin College of Applied Arts and Technology   \n",
       "4     Cambrian College of Applied Arts & Technology   \n",
       "\n",
       "                        Job Title  Calendar Year  \n",
       "0                       President           1996  \n",
       "1                  V.P., Academic           1996  \n",
       "2                  Past President           1996  \n",
       "3  V.P., Finance & Administration           1996  \n",
       "4                       President           1996  "
      ]
     },
     "execution_count": 4,
     "metadata": {},
     "output_type": "execute_result"
    }
   ],
   "source": [
    "# Create a DataFrame for the Sunshine data. \n",
    "sunshine_data_df = pd.read_csv(sunshine_data_to_load)\n",
    "\n",
    "#display the data table for preview\n",
    "sunshine_data_df.head()"
   ]
  },
  {
   "cell_type": "code",
   "execution_count": 5,
   "id": "98a33ae0",
   "metadata": {},
   "outputs": [
    {
     "name": "stdout",
     "output_type": "stream",
     "text": [
      "<class 'pandas.core.frame.DataFrame'>\n",
      "RangeIndex: 1470706 entries, 0 to 1470705\n",
      "Data columns (total 8 columns):\n",
      " #   Column            Non-Null Count    Dtype  \n",
      "---  ------            --------------    -----  \n",
      " 0   Sector            1470706 non-null  object \n",
      " 1   Last Name         1470706 non-null  object \n",
      " 2   First Name        1470703 non-null  object \n",
      " 3   Salary Paid       1470706 non-null  float64\n",
      " 4   Taxable Benefits  1470706 non-null  float64\n",
      " 5   Employer          1470706 non-null  object \n",
      " 6   Job Title         1470706 non-null  object \n",
      " 7   Calendar Year     1470706 non-null  int64  \n",
      "dtypes: float64(2), int64(1), object(5)\n",
      "memory usage: 89.8+ MB\n"
     ]
    }
   ],
   "source": [
    "#review data types\n",
    "sunshine_data_df.info()"
   ]
  },
  {
   "cell_type": "code",
   "execution_count": 6,
   "id": "0c2e8425",
   "metadata": {},
   "outputs": [
    {
     "name": "stdout",
     "output_type": "stream",
     "text": [
      "Column Sector has 0null values\n",
      "Column Last Name has 0null values\n",
      "Column First Name has 3null values\n",
      "Column Salary Paid has 0null values\n",
      "Column Taxable Benefits has 0null values\n",
      "Column Employer has 0null values\n",
      "Column Job Title has 0null values\n",
      "Column Calendar Year has 0null values\n"
     ]
    }
   ],
   "source": [
    "#find null values\n",
    "for column in sunshine_data_df.columns:\n",
    "    print(f\"Column {column} has {sunshine_data_df[column].isnull().sum()}null values\")"
   ]
  },
  {
   "cell_type": "code",
   "execution_count": 7,
   "id": "b401b890",
   "metadata": {},
   "outputs": [],
   "source": [
    "# Drop all rows with missing information\n",
    "sunshine_data_df = sunshine_data_df.dropna(how='any')"
   ]
  },
  {
   "cell_type": "code",
   "execution_count": 8,
   "id": "fb811efb",
   "metadata": {},
   "outputs": [
    {
     "name": "stdout",
     "output_type": "stream",
     "text": [
      "Column Sector has 0null values\n",
      "Column Last Name has 0null values\n",
      "Column First Name has 0null values\n",
      "Column Salary Paid has 0null values\n",
      "Column Taxable Benefits has 0null values\n",
      "Column Employer has 0null values\n",
      "Column Job Title has 0null values\n",
      "Column Calendar Year has 0null values\n"
     ]
    }
   ],
   "source": [
    "# check that there are no null values\n",
    "for column in sunshine_data_df.columns:\n",
    "    print(f\"Column {column} has {sunshine_data_df[column].isnull().sum()}null values\")"
   ]
  },
  {
   "cell_type": "markdown",
   "id": "87949cb6",
   "metadata": {},
   "source": [
    "# Sector column data cleansing¶"
   ]
  },
  {
   "cell_type": "code",
   "execution_count": 9,
   "id": "55e6eeb3",
   "metadata": {},
   "outputs": [
    {
     "data": {
      "text/plain": [
       "Municipalities and Services                   272130\n",
       "Universities                                  239373\n",
       "School Boards                                 188239\n",
       "Hospitals and Boards of Public Health         118189\n",
       "Hydro One and Ontario Power Generation        113612\n",
       "                                               ...  \n",
       "Seconded (Ministry of Labour)*                     1\n",
       "Other Public Sector Employers                      1\n",
       "Seconded (Transportation)*                         1\n",
       "Seconded (Economic Development & Trade)*           1\n",
       "Seconded (Economic Development and Trade)*         1\n",
       "Name: Sector, Length: 74, dtype: int64"
      ]
     },
     "execution_count": 9,
     "metadata": {},
     "output_type": "execute_result"
    }
   ],
   "source": [
    "#Review the various categories in Sector column\n",
    "sunshine_data_df['Sector'].value_counts()"
   ]
  },
  {
   "cell_type": "code",
   "execution_count": 10,
   "id": "0b4950e0",
   "metadata": {},
   "outputs": [],
   "source": [
    "#Cleanse and Rename sector names\n",
    "\n",
    "sunshine_data_df.loc[sunshine_data_df['Sector'].str.contains('Seconded', case=False), 'Sector'] = 'Public Sector'\n",
    "sunshine_data_df.loc[sunshine_data_df['Sector'].str.contains('Other Public', case=False), 'Sector'] = 'Public Sector'\n",
    "sunshine_data_df.loc[sunshine_data_df['Sector'].str.contains('Public Service', case=False), 'Sector'] = 'Public Sector'\n",
    "sunshine_data_df.loc[sunshine_data_df['Sector'].str.contains('Government of Ontario', case=False), 'Sector'] = 'Government of Ontario'\n",
    "sunshine_data_df.loc[sunshine_data_df['Sector'].str.contains('Universiti', case=False), 'Sector'] = 'Post Secondary'\n",
    "sunshine_data_df.loc[sunshine_data_df['Sector'].str.contains('College', case=False), 'Sector'] = 'Post Secondary'\n",
    "sunshine_data_df.loc[sunshine_data_df['Sector'].str.contains('Hospital', case=False), 'Sector'] = 'Hospitals'\n",
    "sunshine_data_df.loc[sunshine_data_df['Sector'].str.contains('School', case=False), 'Sector'] = 'Schools'\n",
    "sunshine_data_df.loc[sunshine_data_df['Sector'].str.contains('Municipal', case=False), 'Sector'] = 'Municipalitites'\n"
   ]
  },
  {
   "cell_type": "code",
   "execution_count": 11,
   "id": "c0e318fb",
   "metadata": {},
   "outputs": [],
   "source": [
    "# Clean up Sector category. Replace 'Self Employed' and 'Self' with 'Self-Employed'\n",
    "sunshine_data_df['Sector'] = sunshine_data_df['Sector'].replace({'Hydro One & Ontario Power Generation':'Hydro/OPG',\n",
    "                                                                 'Hydro One and Ontario Power Generation':'Hydro/OPG',\n",
    "                                                                 'Ontario Power Generation':'Hydro/OPG',\n",
    "                                                                 'CROWN AGENCIES':'Crown Agencies'    \n",
    "    })"
   ]
  },
  {
   "cell_type": "markdown",
   "id": "6354d227",
   "metadata": {},
   "source": [
    "# Employer column data cleansing"
   ]
  },
  {
   "cell_type": "code",
   "execution_count": 12,
   "id": "3cfe25d0",
   "metadata": {},
   "outputs": [
    {
     "data": {
      "text/plain": [
       "Ontario Power Generation                                129110\n",
       "University of Toronto                                    47240\n",
       "City of Toronto                                          46561\n",
       "City of Toronto - Police Service                         36985\n",
       "Hydro One                                                32331\n",
       "                                                         ...  \n",
       "E3 (Educate, Enable, Empower) Community Services Inc         1\n",
       "Interactive Niagara Media Cluster                            1\n",
       "Board of Health for Simcoe Muskoka                           1\n",
       "Ajax & Pickering Gen. Hospital                               1\n",
       "Brant County Board of Education                              1\n",
       "Name: Employer, Length: 8305, dtype: int64"
      ]
     },
     "execution_count": 12,
     "metadata": {},
     "output_type": "execute_result"
    }
   ],
   "source": [
    "#Review the various categories in Sector column\n",
    "sunshine_data_df['Employer'].value_counts()"
   ]
  },
  {
   "cell_type": "code",
   "execution_count": 13,
   "id": "c624d650",
   "metadata": {},
   "outputs": [],
   "source": [
    "#Rename all Employers\n",
    "\n",
    "sunshine_data_df.loc[sunshine_data_df['Employer'].str.contains('Accessible Community Counselling', case=False), 'Employer'] = 'Accessible Community Counselling & Employment Services'\n",
    "sunshine_data_df.loc[sunshine_data_df['Employer'].str.contains('Aboriginal Affairs', case=False), 'Employer'] = 'Aboriginal Affairs'\n",
    "sunshine_data_df.loc[sunshine_data_df['Employer'].str.contains('Agriculture', case=False), 'Employer'] = 'Agriculture, Food & Rural Affairs'\n",
    "sunshine_data_df.loc[sunshine_data_df['Employer'].str.contains('Algonquin Opportunity', case=False), 'Employer'] = 'Algonquin Opportunity (No 2) Corporation'\n",
    "sunshine_data_df.loc[sunshine_data_df['Employer'].str.contains('Algonquin Opportunity', case=False), 'Employer'] = 'Algonquin Opportunity (No 2) Corporation'\n",
    "sunshine_data_df.loc[sunshine_data_df['Employer'].str.contains('Alzheimer Society', case=False), 'Employer'] = 'Alzheimer Society'\n",
    "sunshine_data_df.loc[sunshine_data_df['Employer'].str.contains('Canadian Mental Health', case=False), 'Employer'] = 'Canadian Mental Health Association'\n",
    "sunshine_data_df.loc[sunshine_data_df['Employer'].str.contains('Canadian Red Cross', case=False), 'Employer'] = 'Canadian Red Cross'\n",
    "sunshine_data_df.loc[sunshine_data_df['Employer'].str.contains('CAS', case=False), 'Employer'] = 'CAS'\n",
    "sunshine_data_df.loc[sunshine_data_df['Employer'].str.contains('Catholic Children', case=False), 'Employer'] = \"Catholic Children's Aid Society\"\n",
    "sunshine_data_df.loc[sunshine_data_df['Employer'].str.contains('CCAC', case=False), 'Employer'] = \"CCAC\"\n",
    "sunshine_data_df.loc[sunshine_data_df['Employer'].str.contains(\"Children's Aid Soc\", case=False), 'Employer'] = \"Children's Aid Society\"\n",
    "sunshine_data_df.loc[sunshine_data_df['Employer'].str.contains(\"Citizenship\", case=False), 'Employer'] = \"Citizenship & Immigration\"\n",
    "sunshine_data_df.loc[sunshine_data_df['Employer'].str.contains(\"Victorian Order \", case=False), 'Employer'] = \"Victorian Order of Nurses\"\n",
    "sunshine_data_df.loc[sunshine_data_df['Employer'].str.contains(\"YMCA \", case=False), 'Employer'] = \"YMCA\"\n",
    "sunshine_data_df.loc[sunshine_data_df['Employer'].str.contains(\"John Howard Society \", case=False), 'Employer'] = \"The John Howard Society\"\n",
    "sunshine_data_df.loc[sunshine_data_df['Employer'].str.contains(\"Sunnybrook\", case=False), 'Employer'] = \"Sunnybrook Hospital\"\n",
    "sunshine_data_df.loc[sunshine_data_df['Employer'].str.contains(\"St. Peter\", case=False), 'Employer'] = \"St. Peter's Hospital\"\n",
    "sunshine_data_df.loc[sunshine_data_df['Employer'].str.contains(\"Stevenson Memorial Hospital\", case=False), 'Employer'] = \"Stevenson Memorial Hospital\"\n",
    "sunshine_data_df.loc[sunshine_data_df['Employer'].str.contains(\"St. Demetrius\", case=False), 'Employer'] = \"St. Demetrius (Ukrainian Catholic) Development Corp.\"\n",
    "sunshine_data_df.loc[sunshine_data_df['Employer'].str.contains(\"St. Alban\", case=False), 'Employer'] = \"St. Alban's Boys' & Girls' Club\"\n",
    "sunshine_data_df.loc[sunshine_data_df['Employer'].str.contains(\"Sport Alliance\", case=False), 'Employer'] = \"Sport Alliance of Ontario\"\n",
    "sunshine_data_df.loc[sunshine_data_df['Employer'].str.contains(\"Southlake Regional\", case=False), 'Employer'] = \"Southlake Regional Health Centre\"\n",
    "sunshine_data_df.loc[sunshine_data_df['Employer'].str.contains(\"Gaming Commission\", case=False), 'Employer'] = \"Alcohol & Gaming Commission of Ontario\"\n",
    "sunshine_data_df.loc[sunshine_data_df['Employer'].str.contains(\"Algonquin Forest\", case=False), 'Employer'] = \"Algonquin Forest Authority\"\n",
    "sunshine_data_df.loc[sunshine_data_df['Employer'].str.contains(\"Amity Goodwill\", case=False), 'Employer'] = \"Amity Goodwill Industries\"\n",
    "sunshine_data_df.loc[sunshine_data_df['Employer'].str.contains(\"Assessment Review\", case=False), 'Employer'] = \"Assessment Review Board\"\n",
    "sunshine_data_df.loc[sunshine_data_df['Employer'].str.contains(\"Association Franco-Ont\", case=False), 'Employer'] = \"Association Franco-Ontarienne Des Conseils Scolaire Catholiques\"\n",
    "sunshine_data_df.loc[sunshine_data_df['Employer'].str.contains(\"Barbara Black\", case=False), 'Employer'] = \"Barbara Black Centre for Youth Res.\"\n",
    "sunshine_data_df.loc[sunshine_data_df['Employer'].str.contains(\"Bellwoods Centres\", case=False), 'Employer'] = \"Bellwoods Centres for Community Living Incorporated\"\n",
    "sunshine_data_df.loc[sunshine_data_df['Employer'].str.contains(\"Big Brothers\", case=False), 'Employer'] = \"Big Brothers Big Sisters of Canada\"\n",
    "sunshine_data_df.loc[sunshine_data_df['Employer'].str.contains(\"BioDiscovery\", case=False), 'Employer'] = \"BioDiscovery Toronto Incorporated\"\n",
    "sunshine_data_df.loc[sunshine_data_df['Employer'].str.contains(\"Bloorview MacMillan\", case=False), 'Employer'] = \"Bloorview MacMillan Children's Centre\"\n",
    "sunshine_data_df.loc[sunshine_data_df['Employer'].str.contains(\"Board of Health\", case=False), 'Employer'] = \"Board of Health\"\n",
    "sunshine_data_df.loc[sunshine_data_df['Employer'].str.contains(\"Cambrian\", case=False), 'Employer'] = \"Cambrian College of Applied Arts & Technology\"\n",
    "sunshine_data_df.loc[sunshine_data_df['Employer'].str.contains(\"Hearing Society\", case=False), 'Employer'] = \"Canadian Hearing Society\"\n",
    "sunshine_data_df.loc[sunshine_data_df['Employer'].str.contains(\"Paraplegic \", case=False), 'Employer'] = \"Canadian Paraplegic Association Ont.\"\n",
    "sunshine_data_df.loc[sunshine_data_df['Employer'].str.contains(\"Canadore \", case=False), 'Employer'] = \"Canadore College of Applied Arts and Technology\"\n",
    "sunshine_data_df.loc[sunshine_data_df['Employer'].str.contains(\"Carlington Community \", case=False), 'Employer'] = \"Carlington Community Health Centre\"\n",
    "sunshine_data_df.loc[sunshine_data_df['Employer'].str.contains(\"Catholic Children's Aid\", case=False), 'Employer'] = \"CCAC\"\n",
    "sunshine_data_df.loc[sunshine_data_df['Employer'].str.contains(\"Catholic C.A.S\", case=False), 'Employer'] = \"CCAC\"\n",
    "sunshine_data_df.loc[sunshine_data_df['Employer'].str.contains(\"Centennial\", case=False), 'Employer'] = \"Centennial College Of Applied Arts and Technology\"\n",
    "sunshine_data_df.loc[sunshine_data_df['Employer'].str.contains(\"Central Toronto Comm\", case=False), 'Employer'] = \"Central Toronto Community Health Centres\"\n",
    "sunshine_data_df.loc[sunshine_data_df['Employer'].str.contains(\" Spanish\", case=False), 'Employer'] = \"Centre for Spanish Speaking Peoples\"\n",
    "sunshine_data_df.loc[sunshine_data_df['Employer'].str.contains(\"Centretown Community\", case=False), 'Employer'] = \"Centretown Community Health Centre Inc.\"\n",
    "# sunshine_data_df.loc[sunshine_data_df['Employer'].str.contains(\"City of Barrie\", case=False), 'Employer'] = \"City of Barrie\"\n",
    "# sunshine_data_df.loc[sunshine_data_df['Employer'].str.contains(\"City of Brampton\", case=False), 'Employer'] = \"City of Brampton\"\n",
    "# sunshine_data_df.loc[sunshine_data_df['Employer'].str.contains(\"City of London\", case=False), 'Employer'] = \"City of London\"\n",
    "# sunshine_data_df.loc[sunshine_data_df['Employer'].str.contains(\"City of Ottawa\", case=False), 'Employer'] = \"City of Ottawa\"\n",
    "# sunshine_data_df.loc[sunshine_data_df['Employer'].str.contains(\"City of Toronto\", case=False), 'Employer'] = \"City of Toronto\""
   ]
  },
  {
   "cell_type": "markdown",
   "id": "1de7aca3",
   "metadata": {},
   "source": [
    "# Job Title column data cleansing"
   ]
  },
  {
   "cell_type": "code",
   "execution_count": 14,
   "id": "aea750c6",
   "metadata": {},
   "outputs": [
    {
     "data": {
      "text/plain": [
       "Professor                                                                                                                                                                                                                         64251\n",
       "Associate Professor                                                                                                                                                                                                               43012\n",
       "Registered Nurse                                                                                                                                                                                                                  29904\n",
       "Constable                                                                                                                                                                                                                         27450\n",
       "Police Constable                                                                                                                                                                                                                  23263\n",
       "                                                                                                                                                                                                                                  ...  \n",
       "Executive Asst., Office of the President                                                                                                                                                                                              1\n",
       "Police Costable                                                                                                                                                                                                                       1\n",
       "Privacy Specialist - Strategic Projects / Spécialiste de la Confidentialité - Projets Stratégiques                                                                                                                                    1\n",
       "Associate Professor/ Director, Centre For Studies In Arts And Culture                                                                                                                                                                 1\n",
       "Professor and Canada Research Chair Tier 1 - Biomedical and Molecular Science, Director (Centre for Neuroscience Studies) - Office of Vice-Principal (Research), Director (Neurosciences Program) - Faculty of Health Sciences        1\n",
       "Name: Job Title, Length: 166161, dtype: int64"
      ]
     },
     "execution_count": 14,
     "metadata": {},
     "output_type": "execute_result"
    }
   ],
   "source": [
    "#Review the various categories in Sector column\n",
    "sunshine_data_df['Job Title'].value_counts()"
   ]
  },
  {
   "cell_type": "code",
   "execution_count": 15,
   "id": "e2507616",
   "metadata": {},
   "outputs": [],
   "source": [
    "#Cleanse and Rename Job Titles names\n",
    "\n",
    "sunshine_data_df.loc[sunshine_data_df['Job Title'].str.contains('Chair', case=False), 'Job Title'] = 'Chair'\n",
    "sunshine_data_df.loc[sunshine_data_df['Job Title'].str.contains('Dean', case=False), 'Job Title'] = 'Dean'\n",
    "sunshine_data_df.loc[sunshine_data_df['Job Title'].str.contains('Director', case=False), 'Job Title'] = 'Director'\n",
    "sunshine_data_df.loc[sunshine_data_df['Job Title'].str.contains('Account Exe', case=False), 'Job Title'] = 'Account Manager'\n",
    "sunshine_data_df.loc[sunshine_data_df['Job Title'].str.contains('Account Manager', case=False), 'Job Title'] = 'Account Manager'\n",
    "sunshine_data_df.loc[sunshine_data_df['Job Title'].str.contains('Account R', case=False), 'Job Title'] = 'Account Manager'\n",
    "sunshine_data_df.loc[sunshine_data_df['Job Title'].str.contains('Accountant', case=False), 'Job Title'] = 'Accountant'\n",
    "sunshine_data_df.loc[sunshine_data_df['Job Title'].str.contains('CEO', case=False), 'Job Title'] = 'CEO'\n",
    "sunshine_data_df.loc[sunshine_data_df['Job Title'].str.contains('CFO', case=False), 'Job Title'] = 'CFO'\n",
    "sunshine_data_df.loc[sunshine_data_df['Job Title'].str.contains('Chief E', case=False), 'Job Title'] = 'CEO'\n",
    "sunshine_data_df.loc[sunshine_data_df['Job Title'].str.contains('Chief F', case=False), 'Job Title'] = 'CFO'\n",
    "sunshine_data_df.loc[sunshine_data_df['Job Title'].str.contains('Commissioner', case=False), 'Job Title'] = 'Commissioner'\n",
    "sunshine_data_df.loc[sunshine_data_df['Job Title'].str.contains('President', case=False), 'Job Title'] = 'President'\n",
    "sunshine_data_df.loc[sunshine_data_df['Job Title'].str.contains('Vice President', case=False), 'Job Title'] = 'VP'\n",
    "sunshine_data_df.loc[sunshine_data_df['Job Title'].str.contains('VP', case=False), 'Job Title'] = 'VP'\n",
    "sunshine_data_df.loc[sunshine_data_df['Job Title'].str.contains('V.P', case=False), 'Job Title'] = 'VP'\n",
    "sunshine_data_df.loc[sunshine_data_df['Job Title'].str.contains('Vice P', case=False), 'Job Title'] = 'Vice Principal'\n",
    "sunshine_data_df.loc[sunshine_data_df['Job Title'].str.contains('Superintendent', case=False), 'Job Title'] = 'Superintendent'\n",
    "sunshine_data_df.loc[sunshine_data_df['Job Title'].str.contains('Nurse P', case=False), 'Job Title'] = 'Nurse Practitioner'\n",
    "sunshine_data_df.loc[sunshine_data_df['Job Title'].str.contains('Registered Nurse', case=False), 'Job Title'] = 'Nurse'\n",
    "sunshine_data_df.loc[sunshine_data_df['Job Title'].str.contains('Administrator', case=False), 'Job Title'] = 'Administrator'\n",
    "sunshine_data_df.loc[sunshine_data_df['Job Title'].str.contains('Teacher', case=False), 'Job Title'] = 'Teacher'\n",
    "sunshine_data_df.loc[sunshine_data_df['Job Title'].str.contains('Paramedic', case=False), 'Job Title'] = 'Paramedic'\n",
    "sunshine_data_df.loc[sunshine_data_df['Job Title'].str.contains('Physio', case=False), 'Job Title'] = 'Physiotherapist'\n",
    "sunshine_data_df.loc[sunshine_data_df['Job Title'].str.contains('Physio', case=False), 'Job Title'] = 'Physiotherapist'\n",
    "sunshine_data_df.loc[sunshine_data_df['Job Title'].str.contains('Supervisor', case=False), 'Job Title'] = 'Supervisor'\n",
    "sunshine_data_df.loc[sunshine_data_df['Job Title'].str.contains('Technologist', case=False), 'Job Title'] = 'Technologist'\n",
    "sunshine_data_df.loc[sunshine_data_df['Job Title'].str.contains('Practice Nurse', case=False), 'Job Title'] = 'Nurse'\n",
    "sunshine_data_df.loc[sunshine_data_df['Job Title'].str.contains('Practice Resource Nurse', case=False), 'Job Title'] = 'Nurse'\n",
    "sunshine_data_df.loc[sunshine_data_df['Job Title'].str.contains('Advisor', case=False), 'Job Title'] = 'Advisor'\n",
    "sunshine_data_df.loc[sunshine_data_df['Job Title'].str.contains('Engineer', case=False), 'Job Title'] = 'Engineer'\n",
    "sunshine_data_df.loc[sunshine_data_df['Job Title'].str.contains('Analyst', case=False), 'Job Title'] = 'Analyst'\n",
    "sunshine_data_df.loc[sunshine_data_df['Job Title'].str.contains('Assistant Deputy Minister', case=False),'Job Title'] ='Assistant Deputy Minister'\n",
    "sunshine_data_df.loc[sunshine_data_df['Job Title'].str.contains('Professor', case=False),'Job Title'] ='Professor'\n",
    "sunshine_data_df.loc[sunshine_data_df['Job Title'].str.contains('Principal', case=False),'Job Title'] ='Principal'\n",
    "sunshine_data_df.loc[sunshine_data_df['Job Title'].str.contains('Physician', case=False),'Job Title'] ='Physician'\n",
    "sunshine_data_df.loc[sunshine_data_df['Job Title'].str.contains('Assoc Prof', case=False),'Job Title'] ='Associate Professor'\n",
    "\n",
    "\n",
    "\n"
   ]
  },
  {
   "cell_type": "markdown",
   "id": "961ff7a0",
   "metadata": {},
   "source": [
    "# First Name column data cleansing"
   ]
  },
  {
   "cell_type": "code",
   "execution_count": 16,
   "id": "641db636",
   "metadata": {},
   "outputs": [],
   "source": [
    "# Convert all sunshine_data_df['First Name'] to str.lower()\n",
    "# df['Fruits'] = df['Fruits'].str.lower()\n",
    "sunshine_data_df['First Name']=sunshine_data_df['First Name'].str.lower()"
   ]
  },
  {
   "cell_type": "code",
   "execution_count": 17,
   "id": "65bc866e",
   "metadata": {},
   "outputs": [],
   "source": [
    "#copy 'First Name' column and create 'Clean First Name' column and 'Clean Alt First Name'\n",
    "sunshine_data_df['clean_first_name'] = sunshine_data_df['First Name']\n",
    "sunshine_data_df['clean_alt_first_name'] = sunshine_data_df['First Name']"
   ]
  },
  {
   "cell_type": "code",
   "execution_count": 18,
   "id": "9f859177",
   "metadata": {},
   "outputs": [
    {
     "data": {
      "text/html": [
       "<div>\n",
       "<style scoped>\n",
       "    .dataframe tbody tr th:only-of-type {\n",
       "        vertical-align: middle;\n",
       "    }\n",
       "\n",
       "    .dataframe tbody tr th {\n",
       "        vertical-align: top;\n",
       "    }\n",
       "\n",
       "    .dataframe thead th {\n",
       "        text-align: right;\n",
       "    }\n",
       "</style>\n",
       "<table border=\"1\" class=\"dataframe\">\n",
       "  <thead>\n",
       "    <tr style=\"text-align: right;\">\n",
       "      <th></th>\n",
       "      <th>Sector</th>\n",
       "      <th>Last Name</th>\n",
       "      <th>First Name</th>\n",
       "      <th>Salary Paid</th>\n",
       "      <th>Taxable Benefits</th>\n",
       "      <th>Employer</th>\n",
       "      <th>Job Title</th>\n",
       "      <th>Calendar Year</th>\n",
       "      <th>clean_first_name</th>\n",
       "      <th>clean_alt_first_name</th>\n",
       "    </tr>\n",
       "  </thead>\n",
       "  <tbody>\n",
       "    <tr>\n",
       "      <th>847125</th>\n",
       "      <td>Municipalitites</td>\n",
       "      <td>Byard</td>\n",
       "      <td>trevor</td>\n",
       "      <td>107144.96</td>\n",
       "      <td>524.28</td>\n",
       "      <td>Regional Municipality of York - Police Services</td>\n",
       "      <td>Police Constable</td>\n",
       "      <td>2015</td>\n",
       "      <td>trevor</td>\n",
       "      <td>trevor</td>\n",
       "    </tr>\n",
       "    <tr>\n",
       "      <th>122427</th>\n",
       "      <td>Municipalitites</td>\n",
       "      <td>MONTPELLIER</td>\n",
       "      <td>maurice</td>\n",
       "      <td>113188.65</td>\n",
       "      <td>4759.46</td>\n",
       "      <td>City of Greater Sudbury</td>\n",
       "      <td>Director</td>\n",
       "      <td>2005</td>\n",
       "      <td>maurice</td>\n",
       "      <td>maurice</td>\n",
       "    </tr>\n",
       "    <tr>\n",
       "      <th>747533</th>\n",
       "      <td>Public Sector</td>\n",
       "      <td>Mendes Gomes</td>\n",
       "      <td>marcio</td>\n",
       "      <td>200799.61</td>\n",
       "      <td>579.64</td>\n",
       "      <td>Eastern Ontario Regional Lab Association</td>\n",
       "      <td>Pathologist / Pathologiste</td>\n",
       "      <td>2014</td>\n",
       "      <td>marcio</td>\n",
       "      <td>marcio</td>\n",
       "    </tr>\n",
       "    <tr>\n",
       "      <th>802570</th>\n",
       "      <td>Government of Ontario</td>\n",
       "      <td>Savard</td>\n",
       "      <td>brian</td>\n",
       "      <td>139722.08</td>\n",
       "      <td>219.55</td>\n",
       "      <td>Treasury Board Secretariat</td>\n",
       "      <td>Portfolio Lead / Responsable de portefeuille</td>\n",
       "      <td>2015</td>\n",
       "      <td>brian</td>\n",
       "      <td>brian</td>\n",
       "    </tr>\n",
       "    <tr>\n",
       "      <th>555076</th>\n",
       "      <td>Schools</td>\n",
       "      <td>BISCHOFF</td>\n",
       "      <td>andy</td>\n",
       "      <td>107236.67</td>\n",
       "      <td>200.16</td>\n",
       "      <td>York Region District School Board</td>\n",
       "      <td>Manager, Network Services</td>\n",
       "      <td>2012</td>\n",
       "      <td>andy</td>\n",
       "      <td>andy</td>\n",
       "    </tr>\n",
       "  </tbody>\n",
       "</table>\n",
       "</div>"
      ],
      "text/plain": [
       "                       Sector     Last Name First Name  Salary Paid  \\\n",
       "847125        Municipalitites         Byard     trevor    107144.96   \n",
       "122427        Municipalitites   MONTPELLIER    maurice    113188.65   \n",
       "747533          Public Sector  Mendes Gomes     marcio    200799.61   \n",
       "802570  Government of Ontario        Savard      brian    139722.08   \n",
       "555076                Schools      BISCHOFF       andy    107236.67   \n",
       "\n",
       "        Taxable Benefits                                         Employer  \\\n",
       "847125            524.28  Regional Municipality of York - Police Services   \n",
       "122427           4759.46                          City of Greater Sudbury   \n",
       "747533            579.64         Eastern Ontario Regional Lab Association   \n",
       "802570            219.55                       Treasury Board Secretariat   \n",
       "555076            200.16                York Region District School Board   \n",
       "\n",
       "                                           Job Title  Calendar Year  \\\n",
       "847125                              Police Constable           2015   \n",
       "122427                                      Director           2005   \n",
       "747533                    Pathologist / Pathologiste           2014   \n",
       "802570  Portfolio Lead / Responsable de portefeuille           2015   \n",
       "555076                     Manager, Network Services           2012   \n",
       "\n",
       "       clean_first_name clean_alt_first_name  \n",
       "847125           trevor               trevor  \n",
       "122427          maurice              maurice  \n",
       "747533           marcio               marcio  \n",
       "802570            brian                brian  \n",
       "555076             andy                 andy  "
      ]
     },
     "execution_count": 18,
     "metadata": {},
     "output_type": "execute_result"
    }
   ],
   "source": [
    "#Review for cleansing\n",
    "sunshine_data_df.sample(5)\n",
    "              "
   ]
  },
  {
   "cell_type": "code",
   "execution_count": 19,
   "id": "7c747104",
   "metadata": {},
   "outputs": [],
   "source": [
    "#Extract only text after first space\n",
    "sunshine_data_df['clean_first_name']=sunshine_data_df['clean_first_name'].str.extract('(^[^\\s]+)')"
   ]
  },
  {
   "cell_type": "code",
   "execution_count": 20,
   "id": "2920b992",
   "metadata": {},
   "outputs": [],
   "source": [
    "#remove all text after white space\n",
    "\n",
    "# sunshine_data_df['clean_first_name']=sunshine_data_df['clean_first_name'].str.extract('(^[^\\s]+)')\n",
    "# name = sunshine_data_df[\"clean_first_name\"]\n",
    "# split_string=name.str.split(\" \",1)\n",
    "# substring = split_string[0]\n",
    "# sunshine_data_df"
   ]
  },
  {
   "cell_type": "code",
   "execution_count": 21,
   "id": "7dd5e74e",
   "metadata": {},
   "outputs": [],
   "source": [
    "# # # Cleaning First Name with titles and Replacing Substrings in a Python String\n",
    "# # # Add each prefix and suffix to remove to a list.\n",
    "# prefixes_suffixes = [\"dr. \", \"dr \",\"-\", \"jr. \",\".\", \"ms. \", \"md. \", \"mr. \", \"(dr)\", \"(\", \")\"]\n",
    "\n",
    "\n",
    "# # # Iterate through the words in the \"prefixes_suffixes\" list and replace them with an empty space, \"\".\n",
    "# for word in prefixes_suffixes:\n",
    "#     sunshine_data_df[\"clean_first_name\"] = sunshine_data_df[\"clean_first_name\"].str.replace(word,\"\")"
   ]
  },
  {
   "cell_type": "code",
   "execution_count": 22,
   "id": "2fa9f3b4",
   "metadata": {},
   "outputs": [
    {
     "data": {
      "text/plain": [
       "0            Robert\n",
       "1          Raymonde\n",
       "2            Philip\n",
       "3            Robert\n",
       "4             Glenn\n",
       "             ...   \n",
       "1470701       Georg\n",
       "1470702     Michael\n",
       "1470703        Peer\n",
       "1470704      Detlev\n",
       "1470705        Joel\n",
       "Name: clean_first_name, Length: 1470703, dtype: object"
      ]
     },
     "execution_count": 22,
     "metadata": {},
     "output_type": "execute_result"
    }
   ],
   "source": [
    "#Capitalize first letter of First Name\n",
    "last_name=sunshine_data_df['clean_first_name']\n",
    "sunshine_data_df['clean_first_name']=last_name.str.capitalize()\n",
    "sunshine_data_df['clean_first_name']"
   ]
  },
  {
   "cell_type": "markdown",
   "id": "6f1a486e",
   "metadata": {},
   "source": [
    "** TO DO ** \n",
    "Create a district list of First Names to be used for Machine Learning Model"
   ]
  },
  {
   "cell_type": "code",
   "execution_count": 23,
   "id": "35d791ce",
   "metadata": {},
   "outputs": [
    {
     "data": {
      "text/html": [
       "<div>\n",
       "<style scoped>\n",
       "    .dataframe tbody tr th:only-of-type {\n",
       "        vertical-align: middle;\n",
       "    }\n",
       "\n",
       "    .dataframe tbody tr th {\n",
       "        vertical-align: top;\n",
       "    }\n",
       "\n",
       "    .dataframe thead th {\n",
       "        text-align: right;\n",
       "    }\n",
       "</style>\n",
       "<table border=\"1\" class=\"dataframe\">\n",
       "  <thead>\n",
       "    <tr style=\"text-align: right;\">\n",
       "      <th></th>\n",
       "      <th>first_name</th>\n",
       "    </tr>\n",
       "  </thead>\n",
       "  <tbody>\n",
       "    <tr>\n",
       "      <th>0</th>\n",
       "      <td>Robert</td>\n",
       "    </tr>\n",
       "    <tr>\n",
       "      <th>1</th>\n",
       "      <td>Raymonde</td>\n",
       "    </tr>\n",
       "    <tr>\n",
       "      <th>2</th>\n",
       "      <td>Philip</td>\n",
       "    </tr>\n",
       "    <tr>\n",
       "      <th>3</th>\n",
       "      <td>Glenn</td>\n",
       "    </tr>\n",
       "    <tr>\n",
       "      <th>4</th>\n",
       "      <td>Catherine</td>\n",
       "    </tr>\n",
       "    <tr>\n",
       "      <th>...</th>\n",
       "      <td>...</td>\n",
       "    </tr>\n",
       "    <tr>\n",
       "      <th>26412</th>\n",
       "      <td>Ozgun</td>\n",
       "    </tr>\n",
       "    <tr>\n",
       "      <th>26413</th>\n",
       "      <td>Elango</td>\n",
       "    </tr>\n",
       "    <tr>\n",
       "      <th>26414</th>\n",
       "      <td>Minglu</td>\n",
       "    </tr>\n",
       "    <tr>\n",
       "      <th>26415</th>\n",
       "      <td>Johanathan</td>\n",
       "    </tr>\n",
       "    <tr>\n",
       "      <th>26416</th>\n",
       "      <td>Myrsini</td>\n",
       "    </tr>\n",
       "  </tbody>\n",
       "</table>\n",
       "<p>26417 rows × 1 columns</p>\n",
       "</div>"
      ],
      "text/plain": [
       "       first_name\n",
       "0          Robert\n",
       "1        Raymonde\n",
       "2          Philip\n",
       "3           Glenn\n",
       "4       Catherine\n",
       "...           ...\n",
       "26412       Ozgun\n",
       "26413      Elango\n",
       "26414      Minglu\n",
       "26415  Johanathan\n",
       "26416     Myrsini\n",
       "\n",
       "[26417 rows x 1 columns]"
      ]
     },
     "execution_count": 23,
     "metadata": {},
     "output_type": "execute_result"
    }
   ],
   "source": [
    "# Create a distinct list of clean first names\n",
    "first_names=sunshine_data_df['clean_first_name'].unique()\n",
    "\n",
    "\n",
    "# Create a Sunshine First Name Dataframe\n",
    "sunshine_names_df=pd.DataFrame(first_names,columns=['first_name'])                          \n",
    "sunshine_names_df\n",
    "                               "
   ]
  },
  {
   "cell_type": "code",
   "execution_count": 24,
   "id": "f48733c3",
   "metadata": {},
   "outputs": [],
   "source": [
    "# Export distinct first name list to csv \n",
    "sunshine_names_df.to_csv(\"Resources/SunShine_FirstNames.csv\", index=False)\n"
   ]
  },
  {
   "cell_type": "markdown",
   "id": "2815e06e",
   "metadata": {},
   "source": [
    "# Last Name column data cleansing"
   ]
  },
  {
   "cell_type": "code",
   "execution_count": 25,
   "id": "a4c6eb4d",
   "metadata": {},
   "outputs": [],
   "source": [
    "# Convert all sunshine_data_df['First Name'] to str.lower()\n",
    "# df['Fruits'] = df['Fruits'].str.lower()\n",
    "sunshine_data_df['Last Name']=sunshine_data_df['Last Name'].str.lower()"
   ]
  },
  {
   "cell_type": "code",
   "execution_count": 26,
   "id": "f793ac6f",
   "metadata": {},
   "outputs": [
    {
     "data": {
      "text/plain": [
       "0             Gillett\n",
       "1              Hanson\n",
       "2             Killeen\n",
       "3          Mitchelson\n",
       "4             Crombie\n",
       "              ...    \n",
       "1470701         Zoidl\n",
       "1470702          Zryd\n",
       "1470703     Zumbansen\n",
       "1470704         Zwick\n",
       "1470705    Zylberberg\n",
       "Name: Last Name, Length: 1470703, dtype: object"
      ]
     },
     "execution_count": 26,
     "metadata": {},
     "output_type": "execute_result"
    }
   ],
   "source": [
    "#Capitalize first letter of Last Name\n",
    "last_name=sunshine_data_df['Last Name']\n",
    "sunshine_data_df['Last Name']=last_name.str.capitalize()\n",
    "sunshine_data_df['Last Name']"
   ]
  },
  {
   "cell_type": "markdown",
   "id": "00bfab09",
   "metadata": {},
   "source": [
    "# Add new columns"
   ]
  },
  {
   "cell_type": "code",
   "execution_count": 27,
   "id": "0e808d52",
   "metadata": {},
   "outputs": [],
   "source": [
    "#Create Total compensation columsn\n",
    "sunshine_data_df[\"total_compensation\"] = sunshine_data_df['Salary Paid']+sunshine_data_df['Taxable Benefits']"
   ]
  },
  {
   "cell_type": "code",
   "execution_count": 28,
   "id": "a570bd97",
   "metadata": {},
   "outputs": [],
   "source": [
    "#Create Gender column\n",
    "sunshine_data_df[\"gender\"] = None"
   ]
  },
  {
   "cell_type": "code",
   "execution_count": 29,
   "id": "5b26f781",
   "metadata": {},
   "outputs": [],
   "source": [
    "#TO DO - pending decision if we want to attempt predicting age based on first name\n",
    "\n",
    "#Create Age column\n",
    "sunshine_data_df[\"age\"] = 0"
   ]
  },
  {
   "cell_type": "code",
   "execution_count": null,
   "id": "4e1a1308",
   "metadata": {},
   "outputs": [],
   "source": [
    "# #TO DO - pending decision if we want to attempt identifying city location by employer column\n",
    "\n",
    "# #Create City column\n",
    "# sunshine_data_df[\"city\"] = None"
   ]
  },
  {
   "cell_type": "code",
   "execution_count": 30,
   "id": "38ae0ac2",
   "metadata": {},
   "outputs": [],
   "source": [
    "#Create unique employee 'Last, First Name' column\n",
    "#concatenate Last and First Name\n",
    "sunshine_data_df[\"last_first_name\"]=(sunshine_data_df[\"Last Name\"]+\"_\"+sunshine_data_df[\"First Name\"]).str.title()"
   ]
  },
  {
   "cell_type": "markdown",
   "id": "b7c8da56",
   "metadata": {},
   "source": [
    "# Prepare for output"
   ]
  },
  {
   "cell_type": "code",
   "execution_count": 31,
   "id": "4d5c4f3f",
   "metadata": {},
   "outputs": [],
   "source": [
    "# Reorder the columns in the sunshine_data DataFrame.\n",
    "sunshine_data_df = sunshine_data_df.reindex(columns=['Calendar Year',\n",
    "                                                     'Sector' ,\n",
    "                                                     'Employer',\n",
    "                                                     'Job Title',\n",
    "                                                     'last_first_name',\n",
    "                                                     'Last Name',\n",
    "                                                     'First Name',\n",
    "                                                     'clean_first_name',\n",
    "                                                     'clean_alt_first_name',\n",
    "                                                     'gender',\n",
    "                                                     'age',\n",
    "                                                     'Salary Paid',\n",
    "                                                     'Taxable Benefits',\n",
    "                                                      \"total_compensation\"]\n",
    "                                           )"
   ]
  },
  {
   "cell_type": "code",
   "execution_count": 32,
   "id": "1de6ce10",
   "metadata": {},
   "outputs": [],
   "source": [
    "# Rename the columns in the sunshine_data DataFrame.### changed to match 2020 data\n",
    "sunshine_data_df.rename({'Calendar Year':'year',\n",
    "                      'Sector':'sector',\n",
    "                      'Employer': 'employer',\n",
    "                      'Job Title':'job_title',\n",
    "                      'Last_First_Name':'last_first_name',\n",
    "                      'Last Name': 'last_name',\n",
    "                      'First Name':'first_name',\n",
    "                      'clean_first_name':'clean_first_name',\n",
    "                      'clean_alt_first_name':'clean_alt_first_name',\n",
    "                      'gender':'gender',\n",
    "                      'age':'age',\n",
    "                      'Salary Paid':'salary_paid',\n",
    "                      'Taxable Benefits':'taxable_benefits',\n",
    "                      \"total_compensation\":\"total_compensation\"\n",
    "                    }, axis='columns', inplace=True)"
   ]
  },
  {
   "cell_type": "code",
   "execution_count": 33,
   "id": "ae0fb59a",
   "metadata": {},
   "outputs": [
    {
     "data": {
      "text/html": [
       "<div>\n",
       "<style scoped>\n",
       "    .dataframe tbody tr th:only-of-type {\n",
       "        vertical-align: middle;\n",
       "    }\n",
       "\n",
       "    .dataframe tbody tr th {\n",
       "        vertical-align: top;\n",
       "    }\n",
       "\n",
       "    .dataframe thead th {\n",
       "        text-align: right;\n",
       "    }\n",
       "</style>\n",
       "<table border=\"1\" class=\"dataframe\">\n",
       "  <thead>\n",
       "    <tr style=\"text-align: right;\">\n",
       "      <th></th>\n",
       "      <th>year</th>\n",
       "      <th>sector</th>\n",
       "      <th>employer</th>\n",
       "      <th>job_title</th>\n",
       "      <th>last_first_name</th>\n",
       "      <th>last_name</th>\n",
       "      <th>first_name</th>\n",
       "      <th>clean_first_name</th>\n",
       "      <th>clean_alt_first_name</th>\n",
       "      <th>gender</th>\n",
       "      <th>age</th>\n",
       "      <th>salary_paid</th>\n",
       "      <th>taxable_benefits</th>\n",
       "      <th>total_compensation</th>\n",
       "    </tr>\n",
       "  </thead>\n",
       "  <tbody>\n",
       "    <tr>\n",
       "      <th>0</th>\n",
       "      <td>1996</td>\n",
       "      <td>Post Secondary</td>\n",
       "      <td>Algonquin College of Applied Arts and Technology</td>\n",
       "      <td>President</td>\n",
       "      <td>Gillett_Robert</td>\n",
       "      <td>Gillett</td>\n",
       "      <td>robert</td>\n",
       "      <td>Robert</td>\n",
       "      <td>robert</td>\n",
       "      <td>None</td>\n",
       "      <td>0</td>\n",
       "      <td>127332.0</td>\n",
       "      <td>3633.0</td>\n",
       "      <td>130965.0</td>\n",
       "    </tr>\n",
       "    <tr>\n",
       "      <th>1</th>\n",
       "      <td>1996</td>\n",
       "      <td>Post Secondary</td>\n",
       "      <td>Algonquin College of Applied Arts and Technology</td>\n",
       "      <td>VP</td>\n",
       "      <td>Hanson_Raymonde</td>\n",
       "      <td>Hanson</td>\n",
       "      <td>raymonde</td>\n",
       "      <td>Raymonde</td>\n",
       "      <td>raymonde</td>\n",
       "      <td>None</td>\n",
       "      <td>0</td>\n",
       "      <td>102999.0</td>\n",
       "      <td>5557.0</td>\n",
       "      <td>108556.0</td>\n",
       "    </tr>\n",
       "    <tr>\n",
       "      <th>2</th>\n",
       "      <td>1996</td>\n",
       "      <td>Post Secondary</td>\n",
       "      <td>Algonquin College of Applied Arts and Technology</td>\n",
       "      <td>President</td>\n",
       "      <td>Killeen_Philip</td>\n",
       "      <td>Killeen</td>\n",
       "      <td>philip</td>\n",
       "      <td>Philip</td>\n",
       "      <td>philip</td>\n",
       "      <td>None</td>\n",
       "      <td>0</td>\n",
       "      <td>183482.0</td>\n",
       "      <td>878.0</td>\n",
       "      <td>184360.0</td>\n",
       "    </tr>\n",
       "    <tr>\n",
       "      <th>3</th>\n",
       "      <td>1996</td>\n",
       "      <td>Post Secondary</td>\n",
       "      <td>Algonquin College of Applied Arts and Technology</td>\n",
       "      <td>VP</td>\n",
       "      <td>Mitchelson_Robert</td>\n",
       "      <td>Mitchelson</td>\n",
       "      <td>robert</td>\n",
       "      <td>Robert</td>\n",
       "      <td>robert</td>\n",
       "      <td>None</td>\n",
       "      <td>0</td>\n",
       "      <td>106608.0</td>\n",
       "      <td>5586.0</td>\n",
       "      <td>112194.0</td>\n",
       "    </tr>\n",
       "    <tr>\n",
       "      <th>4</th>\n",
       "      <td>1996</td>\n",
       "      <td>Post Secondary</td>\n",
       "      <td>Cambrian College of Applied Arts &amp; Technology</td>\n",
       "      <td>President</td>\n",
       "      <td>Crombie_Glenn</td>\n",
       "      <td>Crombie</td>\n",
       "      <td>glenn</td>\n",
       "      <td>Glenn</td>\n",
       "      <td>glenn</td>\n",
       "      <td>None</td>\n",
       "      <td>0</td>\n",
       "      <td>111655.0</td>\n",
       "      <td>3177.0</td>\n",
       "      <td>114832.0</td>\n",
       "    </tr>\n",
       "  </tbody>\n",
       "</table>\n",
       "</div>"
      ],
      "text/plain": [
       "   year          sector                                          employer  \\\n",
       "0  1996  Post Secondary  Algonquin College of Applied Arts and Technology   \n",
       "1  1996  Post Secondary  Algonquin College of Applied Arts and Technology   \n",
       "2  1996  Post Secondary  Algonquin College of Applied Arts and Technology   \n",
       "3  1996  Post Secondary  Algonquin College of Applied Arts and Technology   \n",
       "4  1996  Post Secondary     Cambrian College of Applied Arts & Technology   \n",
       "\n",
       "   job_title    last_first_name   last_name first_name clean_first_name  \\\n",
       "0  President     Gillett_Robert     Gillett     robert           Robert   \n",
       "1         VP    Hanson_Raymonde      Hanson   raymonde         Raymonde   \n",
       "2  President     Killeen_Philip     Killeen     philip           Philip   \n",
       "3         VP  Mitchelson_Robert  Mitchelson     robert           Robert   \n",
       "4  President      Crombie_Glenn     Crombie      glenn            Glenn   \n",
       "\n",
       "  clean_alt_first_name gender  age  salary_paid  taxable_benefits  \\\n",
       "0               robert   None    0     127332.0            3633.0   \n",
       "1             raymonde   None    0     102999.0            5557.0   \n",
       "2               philip   None    0     183482.0             878.0   \n",
       "3               robert   None    0     106608.0            5586.0   \n",
       "4                glenn   None    0     111655.0            3177.0   \n",
       "\n",
       "   total_compensation  \n",
       "0            130965.0  \n",
       "1            108556.0  \n",
       "2            184360.0  \n",
       "3            112194.0  \n",
       "4            114832.0  "
      ]
     },
     "execution_count": 33,
     "metadata": {},
     "output_type": "execute_result"
    }
   ],
   "source": [
    "# Export to csv \n",
    "sunshine_data_df.to_csv(\"Resources/Clean_SunShine.csv\", index=False)\n",
    "sunshine_data_df.head()"
   ]
  },
  {
   "cell_type": "code",
   "execution_count": 34,
   "id": "ed04becb",
   "metadata": {},
   "outputs": [
    {
     "data": {
      "text/plain": [
       "year                      int64\n",
       "sector                   object\n",
       "employer                 object\n",
       "job_title                object\n",
       "last_first_name          object\n",
       "last_name                object\n",
       "first_name               object\n",
       "clean_first_name         object\n",
       "clean_alt_first_name     object\n",
       "gender                   object\n",
       "age                       int64\n",
       "salary_paid             float64\n",
       "taxable_benefits        float64\n",
       "total_compensation      float64\n",
       "dtype: object"
      ]
     },
     "execution_count": 34,
     "metadata": {},
     "output_type": "execute_result"
    }
   ],
   "source": [
    "sunshine_data_df.dtypes"
   ]
  }
 ],
 "metadata": {
  "kernelspec": {
   "display_name": "PythonData",
   "language": "python",
   "name": "pythondata"
  },
  "language_info": {
   "codemirror_mode": {
    "name": "ipython",
    "version": 3
   },
   "file_extension": ".py",
   "mimetype": "text/x-python",
   "name": "python",
   "nbconvert_exporter": "python",
   "pygments_lexer": "ipython3",
   "version": "3.7.10"
  }
 },
 "nbformat": 4,
 "nbformat_minor": 5
}
