{
 "cells": [
  {
   "cell_type": "code",
   "execution_count": 1,
   "id": "b8134e6f",
   "metadata": {},
   "outputs": [],
   "source": [
    "# Cleaning of the Sunshine List\n",
    "#import dependencies\n",
    "import pandas as pd"
   ]
  },
  {
   "cell_type": "code",
   "execution_count": 2,
   "id": "b286d703",
   "metadata": {},
   "outputs": [],
   "source": [
    "#File to Load 1996 t0 2019 to be used as dummy data\n",
    "sunshine_data_to_load = \"SunShine.csv\""
   ]
  },
  {
   "cell_type": "code",
   "execution_count": 3,
   "id": "416b10f7",
   "metadata": {},
   "outputs": [],
   "source": [
    "# ***TO DO***\n",
    "# Add sunshine 2020 csv to sunshine_data_df"
   ]
  },
  {
   "cell_type": "code",
   "execution_count": 4,
   "id": "c3c5378a",
   "metadata": {},
   "outputs": [
    {
     "data": {
      "text/html": [
       "<div>\n",
       "<style scoped>\n",
       "    .dataframe tbody tr th:only-of-type {\n",
       "        vertical-align: middle;\n",
       "    }\n",
       "\n",
       "    .dataframe tbody tr th {\n",
       "        vertical-align: top;\n",
       "    }\n",
       "\n",
       "    .dataframe thead th {\n",
       "        text-align: right;\n",
       "    }\n",
       "</style>\n",
       "<table border=\"1\" class=\"dataframe\">\n",
       "  <thead>\n",
       "    <tr style=\"text-align: right;\">\n",
       "      <th></th>\n",
       "      <th>Sector</th>\n",
       "      <th>Last Name</th>\n",
       "      <th>First Name</th>\n",
       "      <th>Salary Paid</th>\n",
       "      <th>Taxable Benefits</th>\n",
       "      <th>Employer</th>\n",
       "      <th>Job Title</th>\n",
       "      <th>Calendar Year</th>\n",
       "    </tr>\n",
       "  </thead>\n",
       "  <tbody>\n",
       "    <tr>\n",
       "      <th>0</th>\n",
       "      <td>COLLEGES</td>\n",
       "      <td>Gillett</td>\n",
       "      <td>Robert</td>\n",
       "      <td>127332.0</td>\n",
       "      <td>3633.0</td>\n",
       "      <td>Algonquin College of Applied Arts and Technology</td>\n",
       "      <td>President</td>\n",
       "      <td>1996</td>\n",
       "    </tr>\n",
       "    <tr>\n",
       "      <th>1</th>\n",
       "      <td>COLLEGES</td>\n",
       "      <td>Hanson</td>\n",
       "      <td>Raymonde</td>\n",
       "      <td>102999.0</td>\n",
       "      <td>5557.0</td>\n",
       "      <td>Algonquin College of Applied Arts and Technology</td>\n",
       "      <td>V.P., Academic</td>\n",
       "      <td>1996</td>\n",
       "    </tr>\n",
       "    <tr>\n",
       "      <th>2</th>\n",
       "      <td>COLLEGES</td>\n",
       "      <td>Killeen</td>\n",
       "      <td>Philip</td>\n",
       "      <td>183482.0</td>\n",
       "      <td>878.0</td>\n",
       "      <td>Algonquin College of Applied Arts and Technology</td>\n",
       "      <td>Past President</td>\n",
       "      <td>1996</td>\n",
       "    </tr>\n",
       "    <tr>\n",
       "      <th>3</th>\n",
       "      <td>COLLEGES</td>\n",
       "      <td>Mitchelson</td>\n",
       "      <td>Robert</td>\n",
       "      <td>106608.0</td>\n",
       "      <td>5586.0</td>\n",
       "      <td>Algonquin College of Applied Arts and Technology</td>\n",
       "      <td>V.P., Finance &amp; Administration</td>\n",
       "      <td>1996</td>\n",
       "    </tr>\n",
       "    <tr>\n",
       "      <th>4</th>\n",
       "      <td>COLLEGES</td>\n",
       "      <td>Crombie</td>\n",
       "      <td>Glenn</td>\n",
       "      <td>111655.0</td>\n",
       "      <td>3177.0</td>\n",
       "      <td>Cambrian College of Applied Arts &amp; Technology</td>\n",
       "      <td>President</td>\n",
       "      <td>1996</td>\n",
       "    </tr>\n",
       "  </tbody>\n",
       "</table>\n",
       "</div>"
      ],
      "text/plain": [
       "     Sector   Last Name First Name  Salary Paid  Taxable Benefits  \\\n",
       "0  COLLEGES     Gillett     Robert     127332.0            3633.0   \n",
       "1  COLLEGES      Hanson   Raymonde     102999.0            5557.0   \n",
       "2  COLLEGES     Killeen     Philip     183482.0             878.0   \n",
       "3  COLLEGES  Mitchelson     Robert     106608.0            5586.0   \n",
       "4  COLLEGES     Crombie      Glenn     111655.0            3177.0   \n",
       "\n",
       "                                           Employer  \\\n",
       "0  Algonquin College of Applied Arts and Technology   \n",
       "1  Algonquin College of Applied Arts and Technology   \n",
       "2  Algonquin College of Applied Arts and Technology   \n",
       "3  Algonquin College of Applied Arts and Technology   \n",
       "4     Cambrian College of Applied Arts & Technology   \n",
       "\n",
       "                        Job Title  Calendar Year  \n",
       "0                       President           1996  \n",
       "1                  V.P., Academic           1996  \n",
       "2                  Past President           1996  \n",
       "3  V.P., Finance & Administration           1996  \n",
       "4                       President           1996  "
      ]
     },
     "execution_count": 4,
     "metadata": {},
     "output_type": "execute_result"
    }
   ],
   "source": [
    "# Create a DataFrame for the Sunshine data. \n",
    "sunshine_data_df = pd.read_csv(sunshine_data_to_load)\n",
    "\n",
    "#display the data table for preview\n",
    "sunshine_data_df.head()"
   ]
  },
  {
   "cell_type": "code",
   "execution_count": 5,
   "id": "98a33ae0",
   "metadata": {},
   "outputs": [
    {
     "name": "stdout",
     "output_type": "stream",
     "text": [
      "<class 'pandas.core.frame.DataFrame'>\n",
      "RangeIndex: 1470706 entries, 0 to 1470705\n",
      "Data columns (total 8 columns):\n",
      " #   Column            Non-Null Count    Dtype  \n",
      "---  ------            --------------    -----  \n",
      " 0   Sector            1470706 non-null  object \n",
      " 1   Last Name         1470706 non-null  object \n",
      " 2   First Name        1470703 non-null  object \n",
      " 3   Salary Paid       1470706 non-null  float64\n",
      " 4   Taxable Benefits  1470706 non-null  float64\n",
      " 5   Employer          1470706 non-null  object \n",
      " 6   Job Title         1470706 non-null  object \n",
      " 7   Calendar Year     1470706 non-null  int64  \n",
      "dtypes: float64(2), int64(1), object(5)\n",
      "memory usage: 89.8+ MB\n"
     ]
    }
   ],
   "source": [
    "#review data types\n",
    "sunshine_data_df.info()"
   ]
  },
  {
   "cell_type": "code",
   "execution_count": 6,
   "id": "0c2e8425",
   "metadata": {},
   "outputs": [
    {
     "name": "stdout",
     "output_type": "stream",
     "text": [
      "Column Sector has 0null values\n",
      "Column Last Name has 0null values\n",
      "Column First Name has 3null values\n",
      "Column Salary Paid has 0null values\n",
      "Column Taxable Benefits has 0null values\n",
      "Column Employer has 0null values\n",
      "Column Job Title has 0null values\n",
      "Column Calendar Year has 0null values\n"
     ]
    }
   ],
   "source": [
    "#find null values\n",
    "for column in sunshine_data_df.columns:\n",
    "    print(f\"Column {column} has {sunshine_data_df[column].isnull().sum()}null values\")"
   ]
  },
  {
   "cell_type": "code",
   "execution_count": 7,
   "id": "b401b890",
   "metadata": {},
   "outputs": [],
   "source": [
    "# Drop all rows with missing information\n",
    "sunshine_data_df = sunshine_data_df.dropna(how='any')"
   ]
  },
  {
   "cell_type": "code",
   "execution_count": 8,
   "id": "fb811efb",
   "metadata": {},
   "outputs": [
    {
     "name": "stdout",
     "output_type": "stream",
     "text": [
      "Column Sector has 0null values\n",
      "Column Last Name has 0null values\n",
      "Column First Name has 0null values\n",
      "Column Salary Paid has 0null values\n",
      "Column Taxable Benefits has 0null values\n",
      "Column Employer has 0null values\n",
      "Column Job Title has 0null values\n",
      "Column Calendar Year has 0null values\n"
     ]
    }
   ],
   "source": [
    "# check that there are no null values\n",
    "for column in sunshine_data_df.columns:\n",
    "    print(f\"Column {column} has {sunshine_data_df[column].isnull().sum()}null values\")"
   ]
  },
  {
   "cell_type": "code",
   "execution_count": 9,
   "id": "575625d5",
   "metadata": {},
   "outputs": [],
   "source": [
    "#Change Salary to numeric\n",
    "# Use pd.to_numeric() method to convert the datatype of the Amount column\n",
    "# df['Amount'] = pd.to_numeric(df['Amount'])\n",
    "sunshine_data_df['Salary Paid'] = sunshine_data_df['Salary Paid'].astype(str). astype(float)"
   ]
  },
  {
   "cell_type": "code",
   "execution_count": 10,
   "id": "cdc564e9",
   "metadata": {},
   "outputs": [],
   "source": [
    "# sunshine_data_df.info()"
   ]
  },
  {
   "cell_type": "markdown",
   "id": "3ee56d64",
   "metadata": {},
   "source": [
    "# First Name column data cleansing"
   ]
  },
  {
   "cell_type": "code",
   "execution_count": 11,
   "id": "641db636",
   "metadata": {},
   "outputs": [],
   "source": [
    "# Convert all sunshine_data_df['First Name'] to str.lower()\n",
    "# df['Fruits'] = df['Fruits'].str.lower()\n",
    "sunshine_data_df['First Name']=sunshine_data_df['First Name'].str.lower()"
   ]
  },
  {
   "cell_type": "code",
   "execution_count": 12,
   "id": "c44431bd",
   "metadata": {},
   "outputs": [],
   "source": [
    "#copy 'First Name' column and create 'Clean First Name' column and 'Clean Alt First Name'\n",
    "sunshine_data_df['clean_first_name'] = sunshine_data_df['First Name']\n",
    "sunshine_data_df['clean_alt_first_name'] = sunshine_data_df['First Name']"
   ]
  },
  {
   "cell_type": "code",
   "execution_count": 13,
   "id": "8d03ca05",
   "metadata": {},
   "outputs": [
    {
     "name": "stderr",
     "output_type": "stream",
     "text": [
      "C:\\Users\\Danielle Spring\\anaconda3\\envs\\PythonData\\lib\\site-packages\\ipykernel_launcher.py:7: FutureWarning: The default value of regex will change from True to False in a future version.\n",
      "  import sys\n",
      "C:\\Users\\Danielle Spring\\anaconda3\\envs\\PythonData\\lib\\site-packages\\ipykernel_launcher.py:7: FutureWarning: The default value of regex will change from True to False in a future version. In addition, single character regular expressions will*not* be treated as literal strings when regex=True.\n",
      "  import sys\n"
     ]
    }
   ],
   "source": [
    "# # Cleaning First Name with titles and Replacing Substrings in a Python String\n",
    "# # Add each prefix and suffix to remove to a list.\n",
    "prefixes_suffixes = [\"dr. \", \"dr \",\"-\", \"jr. \",\".\", \"ms. \", \"md. \", \"mr. \", \"(dr)\", \"(\", \")\"]\n",
    "\n",
    "# # Iterate through the words in the \"prefixes_suffixes\" list and replace them with an empty space, \"\".\n",
    "for word in prefixes_suffixes:\n",
    "    sunshine_data_df[\"clean_first_name\"] = sunshine_data_df[\"clean_first_name\"].str.replace(word,\"\")"
   ]
  },
  {
   "cell_type": "markdown",
   "id": "bfafa819",
   "metadata": {},
   "source": [
    "** TO DO ** \n",
    "Create a district list of First Names to be used for Machine Learning Model"
   ]
  },
  {
   "cell_type": "code",
   "execution_count": 14,
   "id": "35d791ce",
   "metadata": {},
   "outputs": [
    {
     "data": {
      "text/plain": [
       "david         27551\n",
       "john          26541\n",
       "michael       26074\n",
       "robert        21602\n",
       "paul          16261\n",
       "              ...  \n",
       "debora l.         1\n",
       " clive            1\n",
       "todd m. a.        1\n",
       "susanjane         1\n",
       "tatiana d         1\n",
       "Name: First Name, Length: 62548, dtype: int64"
      ]
     },
     "execution_count": 14,
     "metadata": {},
     "output_type": "execute_result"
    }
   ],
   "source": [
    "# first_count=sunshine_data_df['First Name'].str.lower().value_counts()\n",
    "first_count=sunshine_data_df['First Name'].value_counts()\n",
    "first_count"
   ]
  },
  {
   "cell_type": "code",
   "execution_count": 15,
   "id": "8c104447",
   "metadata": {},
   "outputs": [],
   "source": [
    "# Creating a new DataFrame using both duration and count\n",
    "# urban_ride_count=urban_cities_df.groupby([\"city\"]).count()[\"ride_id\"]\n",
    "# first_name_count=sunshine_data_df.groupby([\"First Name\"]).count()[\"First Name\"]\n",
    "first_name_table = pd.DataFrame({\"first_name_counts\": first_count})"
   ]
  },
  {
   "cell_type": "markdown",
   "id": "75b88d6e",
   "metadata": {},
   "source": [
    "# Last Name column data cleansing"
   ]
  },
  {
   "cell_type": "code",
   "execution_count": 16,
   "id": "606e81a2",
   "metadata": {},
   "outputs": [],
   "source": [
    "# Convert all sunshine_data_df['First Name'] to str.lower()\n",
    "# df['Fruits'] = df['Fruits'].str.lower()\n",
    "sunshine_data_df['Last Name']=sunshine_data_df['Last Name'].str.lower()"
   ]
  },
  {
   "cell_type": "markdown",
   "id": "e0ffee37",
   "metadata": {},
   "source": [
    "# Add new columns"
   ]
  },
  {
   "cell_type": "code",
   "execution_count": 17,
   "id": "dd0e1b36",
   "metadata": {},
   "outputs": [],
   "source": [
    "#Create Gender column\n",
    "sunshine_data_df[\"gender\"] = None"
   ]
  },
  {
   "cell_type": "code",
   "execution_count": 18,
   "id": "ef6b9eca",
   "metadata": {},
   "outputs": [],
   "source": [
    "#Create Age column\n",
    "sunshine_data_df[\"age\"] = 0"
   ]
  },
  {
   "cell_type": "code",
   "execution_count": 19,
   "id": "e3be87e9",
   "metadata": {},
   "outputs": [],
   "source": [
    "#Create unique employee 'Last, First Name' column\n",
    "#concatenate Last and First Name\n",
    "sunshine_data_df[\"last_first_name\"]=sunshine_data_df[\"Last Name\"]+\"_\"+sunshine_data_df[\"First Name\"]"
   ]
  },
  {
   "cell_type": "markdown",
   "id": "ff18f535",
   "metadata": {},
   "source": [
    "# Prepare for output"
   ]
  },
  {
   "cell_type": "code",
   "execution_count": 21,
   "id": "e184f9c0",
   "metadata": {},
   "outputs": [],
   "source": [
    "# # Reorder the columns in the sunshine_data DataFrame.\n",
    "sunshine_data_df = sunshine_data_df.reindex(columns=['Calendar Year',\n",
    "                                                     'Sector' ,\n",
    "                                                     'Employer',\n",
    "                                                     'Job Title',\n",
    "                                                     'last_first_name',\n",
    "                                                     'Last Name',\n",
    "                                                     'First Name',\n",
    "                                                     'clean_first_name',\n",
    "                                                     'clean_alt_first_name',\n",
    "                                                     'gender',\n",
    "                                                     'age',\n",
    "                                                     'Salary Paid',\n",
    "                                                     'Taxable Benefits']\n",
    "                                           )"
   ]
  },
  {
   "cell_type": "code",
   "execution_count": 22,
   "id": "69ec7391",
   "metadata": {},
   "outputs": [],
   "source": [
    "# Rename the columns in the sunshine_data DataFrame.### changed to match 2020 data\n",
    "sunshine_data_df.rename({'Calendar Year':'year',\n",
    "                      'Sector':'sector',\n",
    "                      'Employer': 'employer',\n",
    "                      'Job Title':'job_title',\n",
    "                      'Last_First_Name':'last_first_name',\n",
    "                      'Last Name': 'last_name',\n",
    "                      'First Name':'first_name',\n",
    "                      'clean_first_name':'clean_first_name',\n",
    "                      'clean_alt_first_name':'clean_alt_first_name',\n",
    "                      'gender':'gender',\n",
    "                      'age':'age',\n",
    "                      'Salary Paid':'salary_paid',\n",
    "                      'Taxable Benefits':'taxable_benefits'\n",
    "                    }, axis='columns', inplace=True)"
   ]
  },
  {
   "cell_type": "code",
   "execution_count": 23,
   "id": "ae0fb59a",
   "metadata": {},
   "outputs": [
    {
     "data": {
      "text/html": [
       "<div>\n",
       "<style scoped>\n",
       "    .dataframe tbody tr th:only-of-type {\n",
       "        vertical-align: middle;\n",
       "    }\n",
       "\n",
       "    .dataframe tbody tr th {\n",
       "        vertical-align: top;\n",
       "    }\n",
       "\n",
       "    .dataframe thead th {\n",
       "        text-align: right;\n",
       "    }\n",
       "</style>\n",
       "<table border=\"1\" class=\"dataframe\">\n",
       "  <thead>\n",
       "    <tr style=\"text-align: right;\">\n",
       "      <th></th>\n",
       "      <th>year</th>\n",
       "      <th>sector</th>\n",
       "      <th>employer</th>\n",
       "      <th>job_title</th>\n",
       "      <th>last_first_name</th>\n",
       "      <th>last_name</th>\n",
       "      <th>first_name</th>\n",
       "      <th>clean_first_name</th>\n",
       "      <th>clean_alt_first_name</th>\n",
       "      <th>gender</th>\n",
       "      <th>age</th>\n",
       "      <th>salary_paid</th>\n",
       "      <th>taxable_benefits</th>\n",
       "    </tr>\n",
       "  </thead>\n",
       "  <tbody>\n",
       "    <tr>\n",
       "      <th>0</th>\n",
       "      <td>1996</td>\n",
       "      <td>COLLEGES</td>\n",
       "      <td>Algonquin College of Applied Arts and Technology</td>\n",
       "      <td>President</td>\n",
       "      <td>gillett_robert</td>\n",
       "      <td>gillett</td>\n",
       "      <td>robert</td>\n",
       "      <td>robert</td>\n",
       "      <td>robert</td>\n",
       "      <td>None</td>\n",
       "      <td>0</td>\n",
       "      <td>127332.0</td>\n",
       "      <td>3633.0</td>\n",
       "    </tr>\n",
       "    <tr>\n",
       "      <th>1</th>\n",
       "      <td>1996</td>\n",
       "      <td>COLLEGES</td>\n",
       "      <td>Algonquin College of Applied Arts and Technology</td>\n",
       "      <td>V.P., Academic</td>\n",
       "      <td>hanson_raymonde</td>\n",
       "      <td>hanson</td>\n",
       "      <td>raymonde</td>\n",
       "      <td>raymonde</td>\n",
       "      <td>raymonde</td>\n",
       "      <td>None</td>\n",
       "      <td>0</td>\n",
       "      <td>102999.0</td>\n",
       "      <td>5557.0</td>\n",
       "    </tr>\n",
       "    <tr>\n",
       "      <th>2</th>\n",
       "      <td>1996</td>\n",
       "      <td>COLLEGES</td>\n",
       "      <td>Algonquin College of Applied Arts and Technology</td>\n",
       "      <td>Past President</td>\n",
       "      <td>killeen_philip</td>\n",
       "      <td>killeen</td>\n",
       "      <td>philip</td>\n",
       "      <td>philip</td>\n",
       "      <td>philip</td>\n",
       "      <td>None</td>\n",
       "      <td>0</td>\n",
       "      <td>183482.0</td>\n",
       "      <td>878.0</td>\n",
       "    </tr>\n",
       "    <tr>\n",
       "      <th>3</th>\n",
       "      <td>1996</td>\n",
       "      <td>COLLEGES</td>\n",
       "      <td>Algonquin College of Applied Arts and Technology</td>\n",
       "      <td>V.P., Finance &amp; Administration</td>\n",
       "      <td>mitchelson_robert</td>\n",
       "      <td>mitchelson</td>\n",
       "      <td>robert</td>\n",
       "      <td>robert</td>\n",
       "      <td>robert</td>\n",
       "      <td>None</td>\n",
       "      <td>0</td>\n",
       "      <td>106608.0</td>\n",
       "      <td>5586.0</td>\n",
       "    </tr>\n",
       "    <tr>\n",
       "      <th>4</th>\n",
       "      <td>1996</td>\n",
       "      <td>COLLEGES</td>\n",
       "      <td>Cambrian College of Applied Arts &amp; Technology</td>\n",
       "      <td>President</td>\n",
       "      <td>crombie_glenn</td>\n",
       "      <td>crombie</td>\n",
       "      <td>glenn</td>\n",
       "      <td>glenn</td>\n",
       "      <td>glenn</td>\n",
       "      <td>None</td>\n",
       "      <td>0</td>\n",
       "      <td>111655.0</td>\n",
       "      <td>3177.0</td>\n",
       "    </tr>\n",
       "  </tbody>\n",
       "</table>\n",
       "</div>"
      ],
      "text/plain": [
       "   year    sector                                          employer  \\\n",
       "0  1996  COLLEGES  Algonquin College of Applied Arts and Technology   \n",
       "1  1996  COLLEGES  Algonquin College of Applied Arts and Technology   \n",
       "2  1996  COLLEGES  Algonquin College of Applied Arts and Technology   \n",
       "3  1996  COLLEGES  Algonquin College of Applied Arts and Technology   \n",
       "4  1996  COLLEGES     Cambrian College of Applied Arts & Technology   \n",
       "\n",
       "                        job_title    last_first_name   last_name first_name  \\\n",
       "0                       President     gillett_robert     gillett     robert   \n",
       "1                  V.P., Academic    hanson_raymonde      hanson   raymonde   \n",
       "2                  Past President     killeen_philip     killeen     philip   \n",
       "3  V.P., Finance & Administration  mitchelson_robert  mitchelson     robert   \n",
       "4                       President      crombie_glenn     crombie      glenn   \n",
       "\n",
       "  clean_first_name clean_alt_first_name gender  age  salary_paid  \\\n",
       "0           robert               robert   None    0     127332.0   \n",
       "1         raymonde             raymonde   None    0     102999.0   \n",
       "2           philip               philip   None    0     183482.0   \n",
       "3           robert               robert   None    0     106608.0   \n",
       "4            glenn                glenn   None    0     111655.0   \n",
       "\n",
       "   taxable_benefits  \n",
       "0            3633.0  \n",
       "1            5557.0  \n",
       "2             878.0  \n",
       "3            5586.0  \n",
       "4            3177.0  "
      ]
     },
     "execution_count": 23,
     "metadata": {},
     "output_type": "execute_result"
    }
   ],
   "source": [
    "# Export to csv \n",
    "sunshine_data_df.to_csv(\"Clean_SunShine.csv\", index=False)\n",
    "sunshine_data_df.head()"
   ]
  },
  {
   "cell_type": "code",
   "execution_count": 26,
   "id": "cdd79754",
   "metadata": {},
   "outputs": [
    {
     "data": {
      "text/plain": [
       "year                      int64\n",
       "sector                   object\n",
       "employer                 object\n",
       "job_title                object\n",
       "last_first_name          object\n",
       "last_name                object\n",
       "first_name               object\n",
       "clean_first_name         object\n",
       "clean_alt_first_name     object\n",
       "gender                   object\n",
       "age                       int64\n",
       "salary_paid             float64\n",
       "taxable_benefits        float64\n",
       "dtype: object"
      ]
     },
     "execution_count": 26,
     "metadata": {},
     "output_type": "execute_result"
    }
   ],
   "source": [
    "sunshine_data_df.dtypes"
   ]
  }
 ],
 "metadata": {
  "kernelspec": {
   "display_name": "PythonData",
   "language": "python",
   "name": "pythondata"
  },
  "language_info": {
   "codemirror_mode": {
    "name": "ipython",
    "version": 3
   },
   "file_extension": ".py",
   "mimetype": "text/x-python",
   "name": "python",
   "nbconvert_exporter": "python",
   "pygments_lexer": "ipython3",
   "version": "3.7.10"
  }
 },
 "nbformat": 4,
 "nbformat_minor": 5
}
