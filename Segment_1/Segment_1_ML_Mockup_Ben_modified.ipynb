{
 "cells": [
  {
   "cell_type": "code",
   "execution_count": 2,
   "id": "f19e7708",
   "metadata": {},
   "outputs": [],
   "source": [
    "# Import dependencies \n",
    "import random\n",
    "from nltk.corpus import names\n",
    "import nltk\n",
    "import sklearn\n",
    "\n",
    "import pandas as pd"
   ]
  },
  {
   "cell_type": "code",
   "execution_count": 3,
   "id": "7c534415",
   "metadata": {},
   "outputs": [],
   "source": [
    "# Preparing the list of examples and corresponding class labels for supervised machine learning\n",
    "labeled_names = ([(name, 'male') for name in names.words('male.txt')]+\n",
    "                [(name, 'female') for name in names.words('female.txt')])"
   ]
  },
  {
   "cell_type": "code",
   "execution_count": 4,
   "id": "761aea19",
   "metadata": {},
   "outputs": [],
   "source": [
    "# Using random.shuffle to randomly shuffle the two lists created and combined above so that the male names are intertwined with the female names\n",
    "random.shuffle(labeled_names)"
   ]
  },
  {
   "cell_type": "code",
   "execution_count": 5,
   "id": "c08493c6",
   "metadata": {},
   "outputs": [],
   "source": [
    "# Creating a function to be used in the list comprehension below\n",
    "def gender_features(word):\n",
    "    return {'last letter' :word[-1]}\n",
    "\n",
    "# Using list comprehension + the function created above to return a new list that includes the last letter of each name and the gender from each item in 'labeled_names'\n",
    "featuresets = [(gender_features(n), gender)\n",
    "               for (n, gender)in labeled_names]"
   ]
  },
  {
   "cell_type": "code",
   "execution_count": 6,
   "id": "481c52bd",
   "metadata": {},
   "outputs": [],
   "source": [
    "# Import dependency for splitting the resulting 'featuresets' list into a training set and a testing set\n",
    "from sklearn.model_selection import train_test_split\n",
    "\n",
    "# Splitting the 'featuresets' list into a training set and a testing set\n",
    "train_set, test_set = sklearn.model_selection.train_test_split(featuresets, test_size=0.3, random_state=1)"
   ]
  },
  {
   "cell_type": "code",
   "execution_count": 7,
   "id": "b8037acf",
   "metadata": {},
   "outputs": [],
   "source": [
    "# Instantiating a \"naive Bayes\" classifier instance and training it with 'test_set'\n",
    "classifier = nltk.NaiveBayesClassifier.train(train_set)"
   ]
  },
  {
   "cell_type": "code",
   "execution_count": 8,
   "id": "cb88e88f",
   "metadata": {},
   "outputs": [
    {
     "name": "stdout",
     "output_type": "stream",
     "text": [
      "female\n"
     ]
    }
   ],
   "source": [
    "# Example of how we can now use model to predict the gender of any name we give it\n",
    "print(classifier.classify(gender_features('Florence')))"
   ]
  },
  {
   "cell_type": "code",
   "execution_count": 9,
   "id": "4d6f09b7",
   "metadata": {},
   "outputs": [
    {
     "name": "stdout",
     "output_type": "stream",
     "text": [
      "The accuracy of our model using the test_set is: 0.7588087248322147.\n"
     ]
    }
   ],
   "source": [
    "# Evaluating accuracy of model using 'test_set'\n",
    "modelAccuracy = nltk.classify.accuracy(classifier, test_set)\n",
    "\n",
    "print(f\"The accuracy of our model using the test_set is: {modelAccuracy}.\")"
   ]
  },
  {
   "cell_type": "code",
   "execution_count": 10,
   "id": "169b67e7",
   "metadata": {},
   "outputs": [],
   "source": [
    "#Create DataFrame with first name gender list\n",
    "first_name_with_gender=(labeled_names)\n",
    "MLdummy_df=pd.DataFrame (first_name_with_gender, columns=['firt_name', 'gender'])\n",
    "MLdummy_df.head()\n",
    "\n",
    "#Export dummy data to csv\n",
    "MLdummy_df.to_csv(\"Resources/ML_Dummy.csv\", index=False)"
   ]
  },
  {
   "cell_type": "code",
   "execution_count": 11,
   "id": "f2ab7e0d",
   "metadata": {},
   "outputs": [
    {
     "ename": "SyntaxError",
     "evalue": "invalid syntax (Temp/ipykernel_10836/528973907.py, line 1)",
     "output_type": "error",
     "traceback": [
      "\u001b[1;36m  File \u001b[1;32m\"C:\\Users\\Shaza\\AppData\\Local\\Temp/ipykernel_10836/528973907.py\"\u001b[1;36m, line \u001b[1;32m1\u001b[0m\n\u001b[1;33m    jupyter nbconvert --to html notebook.ipynb\u001b[0m\n\u001b[1;37m                    ^\u001b[0m\n\u001b[1;31mSyntaxError\u001b[0m\u001b[1;31m:\u001b[0m invalid syntax\n"
     ]
    }
   ],
   "source": [
    " jupyter nbconvert --to html notebook.ipynb "
   ]
  }
 ],
 "metadata": {
  "kernelspec": {
   "display_name": "mlenv",
   "language": "python",
   "name": "mlenv"
  },
  "language_info": {
   "codemirror_mode": {
    "name": "ipython",
    "version": 3
   },
   "file_extension": ".py",
   "mimetype": "text/x-python",
   "name": "python",
   "nbconvert_exporter": "python",
   "pygments_lexer": "ipython3",
   "version": "3.7.11"
  }
 },
 "nbformat": 4,
 "nbformat_minor": 5
}
