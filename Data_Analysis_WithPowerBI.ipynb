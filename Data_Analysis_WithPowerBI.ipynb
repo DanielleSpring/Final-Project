{
 "cells": [
  {
   "cell_type": "code",
   "execution_count": null,
   "id": "44652e88",
   "metadata": {},
   "outputs": [],
   "source": [
    "#Import NumPy and Pandas Dependencies\n",
    "import pandas as pd\n",
    "import numpy as np\n",
    "from config import db_password # for access to PGAdmin4 postgresql\n",
    "\n",
    "#import Matplotlib Dependencies\n",
    "from matplotlib import style # for plotting\n",
    "style.use('fivethirtyeight')\n",
    "import matplotlib.pyplot as plt\n",
    "\n",
    "import psycopg2\n",
    "\n",
    "from sqlalchemy import create_engine\n",
    "from getpass import getpass\n"
   ]
  },
  {
   "cell_type": "code",
   "execution_count": null,
   "id": "0879efb2",
   "metadata": {},
   "outputs": [],
   "source": [
    "# db_password = 'db_password'\n",
    "\n",
    "db_password = getpass ('Enter in Password')"
   ]
  },
  {
   "cell_type": "code",
   "execution_count": null,
   "id": "98fa6856",
   "metadata": {},
   "outputs": [],
   "source": [
    "#Define the database credentials\n",
    "credentials = {\n",
    "'host':'localhost',\n",
    "'database':'Final_Project_SunshineList',\n",
    "'user':'postgres',\n",
    "'password' : db_password\n",
    "}"
   ]
  },
  {
   "cell_type": "code",
   "execution_count": null,
   "id": "08700056",
   "metadata": {},
   "outputs": [],
   "source": [
    "def connect(credentials):    \n",
    "    \"\"\" Connect to the PostgreSQL database server \"\"\"    \n",
    "    conn = None\n",
    "    try:        \n",
    "        # connect to the PostgreSQL server        \n",
    "        print('Connecting to the PostgreSQL database...')        \n",
    "        conn = psycopg2.connect(**credentials)    \n",
    "    except (Exception, psycopg2.DatabaseError) as error:\n",
    "        print(error)\n",
    "        sys.exit(1)\n",
    "    print(\"Connection successful\")\n",
    "    return conn"
   ]
  },
  {
   "cell_type": "code",
   "execution_count": null,
   "id": "f3cf436c",
   "metadata": {},
   "outputs": [],
   "source": [
    "def postgresql_to_dataframe(conn, select_query, column_names):\n",
    "    \"\"\"\n",
    "    Tranform a SELECT query into a pandas dataframe    \n",
    "    \"\"\"\n",
    "    cursor = conn.cursor()\n",
    "    try:\n",
    "        cursor.execute(select_query)\n",
    "    except (Exception, psycopg2.DatabaseError) as error:\n",
    "        print(\"Error: %s\" % error)\n",
    "        cursor.close()\n",
    "        return 1\n",
    "    \n",
    "    # Naturally we get a list of tupples\n",
    "    tupples = cursor.fetchall()\n",
    "    cursor.close()\n",
    "    \n",
    "    # We just need to turn it into a pandas dataframe\n",
    "    df = pd.DataFrame(tupples, columns=column_names)\n",
    "    return df"
   ]
  },
  {
   "cell_type": "code",
   "execution_count": null,
   "id": "87df9fac",
   "metadata": {},
   "outputs": [],
   "source": [
    "#Connect to Database\n",
    "conn=connect(credentials)\n",
    "\n",
    "column_names=['index',\n",
    "              'year',\n",
    "              'sector',\n",
    "              'city',\n",
    "              'employer',\n",
    "              'sunshine_job_title',\n",
    "              'job_title',\n",
    "              'last_first_name',\n",
    "              'last_name',\n",
    "              'first_name',\n",
    "              'gender',\n",
    "              'salary_paid',\n",
    "              'salary_bin',\n",
    "              'taxable_benefits',\n",
    "              'total_compensation']\n",
    "\n",
    "#Execute the Select * query\n",
    "sunshine_df=postgresql_to_dataframe(conn,\"select * from sunshine_table\", column_names)\n",
    "sunshine_df.head()"
   ]
  },
  {
   "cell_type": "code",
   "execution_count": null,
   "id": "176d5d79",
   "metadata": {},
   "outputs": [],
   "source": [
    "year_2020_df=sunshine_df.loc[sunshine_df[\"year\"] == 2020]\n",
    "year_2020_df.head()\n"
   ]
  },
  {
   "cell_type": "code",
   "execution_count": null,
   "id": "fb741686",
   "metadata": {},
   "outputs": [],
   "source": [
    "year_2020_df[\"salary_ranges\"]=year_2020_df[\"salary_paid\"]/100\n",
    "# year_2020_df.describe()\n",
    "year_2020_df[\"salary_ranges\"].describe()"
   ]
  },
  {
   "cell_type": "markdown",
   "id": "994a4371",
   "metadata": {},
   "source": [
    "# # Questions We Would Like to Answer:"
   ]
  },
  {
   "cell_type": "code",
   "execution_count": null,
   "id": "0b5ba99b",
   "metadata": {},
   "outputs": [],
   "source": [
    "# Given the data available, can we use 25 years of data to determine whether the Ontario Sunshine list is still relevant?\n",
    "\n",
    "# Can we identify gender using first name?\n",
    "# Can we identify a person’s age based on first name or postition?\n",
    "# How do civil servant salaries trend against Ontario private sector?\n",
    "# Is there Gender Inequality in Ontario’s Sunshine list?\n",
    "# Does gender or age play a factor? Is region a factor?\n",
    "# Are civil servant salaries keeping up with inflation?\n",
    "# How do civil servant salaries trend against Ontario private sector?\n",
    "# Can raises, salary increases be track? Are they in proportion with inflation? who is getting raises?\n",
    "# When creating ranges for salaries which sectors are highest in pay and which are lowest?\n",
    "# Which job titles are paid higher salary/lowest?\n",
    "# When comparing job titles in certain sectors to others are they fairly equivalent or are certain sectors more generous?\n",
    "# Which top-earning positions or person’s have continued to receive generous raises while lower seniority roles may have endured wages freezes and cutbacks?\n",
    "# How many of the top earners are women?"
   ]
  },
  {
   "cell_type": "code",
   "execution_count": null,
   "id": "8a33159a",
   "metadata": {},
   "outputs": [],
   "source": [
    "# defining the binning buckets and labels\n",
    "size_bins = [100000, 105000, 110000, 130000, 200000, 500000, 1000000, 5000000]\n",
    "group_names = [\"(100,000-104,999)\",\"(105,000-109,999)\",\"(110,000-129,999)\",\"(130,000-199,999)\",\"(200,000-499,999)\",\"(500,000-999,999)\",\"(>1million)\"]"
   ]
  },
  {
   "cell_type": "code",
   "execution_count": null,
   "id": "1fd944bb",
   "metadata": {},
   "outputs": [],
   "source": [
    "# Creating a column with the bins\n",
    "sunshine_df[\"salary_ranges\"]=pd.cut(sunshine_df[\"salary_paid\"], size_bins, labels=group_names)\n"
   ]
  },
  {
   "cell_type": "code",
   "execution_count": null,
   "id": "a1dbf86b",
   "metadata": {},
   "outputs": [],
   "source": [
    "# Creating a df for each bin just to visualize count and positions usually in that bin\n",
    "bin_1_df=sunshine_df.loc[sunshine_df[\"salary_ranges\"] == \"(100,000-104,999)\"]\n",
    "bin_1_df['index'].count()"
   ]
  },
  {
   "cell_type": "code",
   "execution_count": null,
   "id": "cb37ec83",
   "metadata": {},
   "outputs": [],
   "source": [
    "bin_2_df=sunshine_df.loc[sunshine_df[\"salary_ranges\"] == \"(105,000-109,999)\"]\n",
    "bin_2_df['index'].count()"
   ]
  },
  {
   "cell_type": "code",
   "execution_count": null,
   "id": "e3d3ab59",
   "metadata": {},
   "outputs": [],
   "source": [
    "# Creating a df for each bin just to visualize count and positions usually in that bin\n",
    "bin_3_df=sunshine_df.loc[sunshine_df[\"salary_ranges\"] == \"(110,000-129,999)\"]\n",
    "bin_3_df['index'].count()"
   ]
  },
  {
   "cell_type": "code",
   "execution_count": null,
   "id": "d7465632",
   "metadata": {},
   "outputs": [],
   "source": [
    "# Creating a df for each bin just to visualize count and positions usually in that bin\n",
    "bin_4_df=sunshine_df.loc[sunshine_df[\"salary_ranges\"] == \"(130,000-199,999)\"]\n",
    "bin_4_df['index'].count()"
   ]
  },
  {
   "cell_type": "code",
   "execution_count": null,
   "id": "c3569c60",
   "metadata": {},
   "outputs": [],
   "source": [
    "# Identify employees who have salaries that are over 1M \n",
    "bin_5_df=sunshine_df.loc[sunshine_df[\"salary_ranges\"] == \"(200,000-499,999)\"]\n",
    "bin_5_df['index'].count()"
   ]
  },
  {
   "cell_type": "code",
   "execution_count": null,
   "id": "c3bac9c4",
   "metadata": {},
   "outputs": [],
   "source": [
    "bin_6_df=sunshine_df.loc[sunshine_df[\"salary_ranges\"] == \"(500,000-999,999)\"]\n",
    "bin_6_df['index'].count()"
   ]
  },
  {
   "cell_type": "code",
   "execution_count": null,
   "id": "96aef971",
   "metadata": {},
   "outputs": [],
   "source": [
    "bin_7_df=sunshine_df.loc[sunshine_df[\"salary_ranges\"] == \"(>1million)\"]\n",
    "bin_7_df['index'].count()"
   ]
  },
  {
   "cell_type": "code",
   "execution_count": null,
   "id": "3f5c550c",
   "metadata": {},
   "outputs": [],
   "source": [
    "# Histogram with the bin size as data\n",
    "data = size_bins\n",
    "_, bins, _ = plt.hist(data, 7, density=1, alpha=0.7)\n"
   ]
  },
  {
   "cell_type": "code",
   "execution_count": null,
   "id": "1515a010",
   "metadata": {},
   "outputs": [],
   "source": [
    "# Make a bell curve chart with bin size \n",
    "# A custom function to calculate\n",
    "# probability distribution function\n",
    "def pdf(x):\n",
    "    mean = np.mean(x)\n",
    "    std = np.std(x)\n",
    "    y_out = 1/(std * np.sqrt(2 * np.pi)) * np.exp( - (x - mean)**2 / (2 * std**2))\n",
    "    return y_out\n",
    "  \n",
    "# To generate an array of x-values\n",
    "# x = sunshine_df[\"\"]\n",
    "x = size_bins  \n",
    "    \n",
    "# To generate an array of \n",
    "# y-values using corresponding x-values\n",
    "y = pdf(x)\n",
    "  \n",
    "# To fill in values under the bell-curve\n",
    "# x_fill = np.arange(-2, 2, 0.1)\n",
    "# y_fill = pdf(x_fill)\n",
    "  \n",
    "# Plotting the bell-shaped curve\n",
    "plt.style.use('seaborn')\n",
    "plt.figure(figsize = (6, 6))\n",
    "plt.plot(x, y, color = 'black',\n",
    "         linestyle = 'dashed')\n",
    "  \n",
    "plt.scatter(x, y, marker = 'o',\n",
    "            s = 25, color = 'red')\n",
    "  \n",
    "# plt.fill_between(x_fill, y_fill, 0,\n",
    "#                  alpha = 0.2, color = 'blue')\n",
    "plt.show()"
   ]
  },
  {
   "cell_type": "code",
   "execution_count": null,
   "id": "4d6ae6fb",
   "metadata": {},
   "outputs": [],
   "source": [
    "plt.hist(size_bins, edgecolor=\"red\", bins=7)\n",
    "plt.show()"
   ]
  },
  {
   "cell_type": "markdown",
   "id": "8a73759f",
   "metadata": {},
   "source": [
    "# Power BI "
   ]
  },
  {
   "cell_type": "code",
   "execution_count": 1,
   "id": "1ab287ca",
   "metadata": {},
   "outputs": [],
   "source": [
    "# Import Power BI\n",
    "from powerbiclient import Report, models"
   ]
  },
  {
   "cell_type": "code",
   "execution_count": null,
   "id": "2707eba1",
   "metadata": {},
   "outputs": [
    {
     "name": "stdout",
     "output_type": "stream",
     "text": [
      "Performing interactive authentication. Please follow the instructions on the terminal.\n",
      " To sign in, use a web browser to open the page https://microsoft.com/devicelogin and enter the code R7FFANCDJ to authenticate.\n"
     ]
    }
   ],
   "source": [
    "# Import the DeviceCodeLoginAuthentication class to authenticate against Power BI\n",
    "from powerbiclient.authentication import DeviceCodeLoginAuthentication\n",
    "\n",
    "# Initiate device authentication\n",
    "device_auth = DeviceCodeLoginAuthentication()"
   ]
  },
  {
   "cell_type": "code",
   "execution_count": null,
   "id": "8d44e237",
   "metadata": {},
   "outputs": [],
   "source": [
    "# Set the workspace ID and report ID you’d like to embed\n",
    "group_id=\"\"\n",
    "report_id=\"\""
   ]
  }
 ],
 "metadata": {
  "kernelspec": {
   "display_name": "PythonData",
   "language": "python",
   "name": "pythondata"
  },
  "language_info": {
   "codemirror_mode": {
    "name": "ipython",
    "version": 3
   },
   "file_extension": ".py",
   "mimetype": "text/x-python",
   "name": "python",
   "nbconvert_exporter": "python",
   "pygments_lexer": "ipython3",
   "version": "3.7.10"
  }
 },
 "nbformat": 4,
 "nbformat_minor": 5
}
