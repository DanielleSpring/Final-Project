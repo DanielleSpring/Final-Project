{
 "cells": [
  {
   "cell_type": "markdown",
   "id": "ea46abad",
   "metadata": {},
   "source": [
    "# Cleaning of the Sunshine List"
   ]
  },
  {
   "cell_type": "code",
   "execution_count": 1,
   "id": "70ed7aef",
   "metadata": {},
   "outputs": [],
   "source": [
    "#import dependencies\n",
    "import pandas as pd\n"
   ]
  },
  {
   "cell_type": "code",
   "execution_count": 2,
   "id": "ab29f888",
   "metadata": {},
   "outputs": [],
   "source": [
    "#File to Load 1996 t0 2019 to be used as dummy data\n",
    "sunshine_data_to_load = \"SunShine.csv\""
   ]
  },
  {
   "cell_type": "code",
   "execution_count": null,
   "id": "e55b0ff6",
   "metadata": {},
   "outputs": [],
   "source": [
    "#File to load 2020\n",
    "# sunshine_2020_to_load=\"2021_SunshineTest.csv\"\n",
    "\n",
    "# https://files.ontario.ca/pssd/2020/tbs-pssd-compendium-2020-en-utf-8-2022-01-10.json"
   ]
  },
  {
   "cell_type": "code",
   "execution_count": null,
   "id": "8c63b8c5",
   "metadata": {},
   "outputs": [],
   "source": [
    "# merge all 3 files above into 1 DataFrame"
   ]
  },
  {
   "cell_type": "code",
   "execution_count": 4,
   "id": "0645db3f",
   "metadata": {},
   "outputs": [
    {
     "data": {
      "text/html": [
       "<div>\n",
       "<style scoped>\n",
       "    .dataframe tbody tr th:only-of-type {\n",
       "        vertical-align: middle;\n",
       "    }\n",
       "\n",
       "    .dataframe tbody tr th {\n",
       "        vertical-align: top;\n",
       "    }\n",
       "\n",
       "    .dataframe thead th {\n",
       "        text-align: right;\n",
       "    }\n",
       "</style>\n",
       "<table border=\"1\" class=\"dataframe\">\n",
       "  <thead>\n",
       "    <tr style=\"text-align: right;\">\n",
       "      <th></th>\n",
       "      <th>Sector</th>\n",
       "      <th>Last Name</th>\n",
       "      <th>First Name</th>\n",
       "      <th>Salary Paid</th>\n",
       "      <th>Taxable Benefits</th>\n",
       "      <th>Employer</th>\n",
       "      <th>Job Title</th>\n",
       "      <th>Calendar Year</th>\n",
       "    </tr>\n",
       "  </thead>\n",
       "  <tbody>\n",
       "    <tr>\n",
       "      <th>0</th>\n",
       "      <td>COLLEGES</td>\n",
       "      <td>Gillett</td>\n",
       "      <td>Robert</td>\n",
       "      <td>127332.0</td>\n",
       "      <td>3633.0</td>\n",
       "      <td>Algonquin College of Applied Arts and Technology</td>\n",
       "      <td>President</td>\n",
       "      <td>1996</td>\n",
       "    </tr>\n",
       "    <tr>\n",
       "      <th>1</th>\n",
       "      <td>COLLEGES</td>\n",
       "      <td>Hanson</td>\n",
       "      <td>Raymonde</td>\n",
       "      <td>102999.0</td>\n",
       "      <td>5557.0</td>\n",
       "      <td>Algonquin College of Applied Arts and Technology</td>\n",
       "      <td>V.P., Academic</td>\n",
       "      <td>1996</td>\n",
       "    </tr>\n",
       "    <tr>\n",
       "      <th>2</th>\n",
       "      <td>COLLEGES</td>\n",
       "      <td>Killeen</td>\n",
       "      <td>Philip</td>\n",
       "      <td>183482.0</td>\n",
       "      <td>878.0</td>\n",
       "      <td>Algonquin College of Applied Arts and Technology</td>\n",
       "      <td>Past President</td>\n",
       "      <td>1996</td>\n",
       "    </tr>\n",
       "    <tr>\n",
       "      <th>3</th>\n",
       "      <td>COLLEGES</td>\n",
       "      <td>Mitchelson</td>\n",
       "      <td>Robert</td>\n",
       "      <td>106608.0</td>\n",
       "      <td>5586.0</td>\n",
       "      <td>Algonquin College of Applied Arts and Technology</td>\n",
       "      <td>V.P., Finance &amp; Administration</td>\n",
       "      <td>1996</td>\n",
       "    </tr>\n",
       "    <tr>\n",
       "      <th>4</th>\n",
       "      <td>COLLEGES</td>\n",
       "      <td>Crombie</td>\n",
       "      <td>Glenn</td>\n",
       "      <td>111655.0</td>\n",
       "      <td>3177.0</td>\n",
       "      <td>Cambrian College of Applied Arts &amp; Technology</td>\n",
       "      <td>President</td>\n",
       "      <td>1996</td>\n",
       "    </tr>\n",
       "  </tbody>\n",
       "</table>\n",
       "</div>"
      ],
      "text/plain": [
       "     Sector   Last Name First Name  Salary Paid  Taxable Benefits  \\\n",
       "0  COLLEGES     Gillett     Robert     127332.0            3633.0   \n",
       "1  COLLEGES      Hanson   Raymonde     102999.0            5557.0   \n",
       "2  COLLEGES     Killeen     Philip     183482.0             878.0   \n",
       "3  COLLEGES  Mitchelson     Robert     106608.0            5586.0   \n",
       "4  COLLEGES     Crombie      Glenn     111655.0            3177.0   \n",
       "\n",
       "                                           Employer  \\\n",
       "0  Algonquin College of Applied Arts and Technology   \n",
       "1  Algonquin College of Applied Arts and Technology   \n",
       "2  Algonquin College of Applied Arts and Technology   \n",
       "3  Algonquin College of Applied Arts and Technology   \n",
       "4     Cambrian College of Applied Arts & Technology   \n",
       "\n",
       "                        Job Title  Calendar Year  \n",
       "0                       President           1996  \n",
       "1                  V.P., Academic           1996  \n",
       "2                  Past President           1996  \n",
       "3  V.P., Finance & Administration           1996  \n",
       "4                       President           1996  "
      ]
     },
     "execution_count": 4,
     "metadata": {},
     "output_type": "execute_result"
    }
   ],
   "source": [
    "# 1. Create a DataFrame for the 201908-citibike-tripdata data. \n",
    "# sunshine_data_df = pd.read_csv(sunshine_data_to_load)\n",
    "sunshine_data_df = pd.read_csv(sunshine_data_to_load)\n",
    "\n",
    "#display the data table for preview\n",
    "sunshine_data_df.head()"
   ]
  },
  {
   "cell_type": "code",
   "execution_count": 5,
   "id": "383d7b2c",
   "metadata": {},
   "outputs": [
    {
     "name": "stdout",
     "output_type": "stream",
     "text": [
      "<class 'pandas.core.frame.DataFrame'>\n",
      "RangeIndex: 1470706 entries, 0 to 1470705\n",
      "Data columns (total 8 columns):\n",
      " #   Column            Non-Null Count    Dtype  \n",
      "---  ------            --------------    -----  \n",
      " 0   Sector            1470706 non-null  object \n",
      " 1   Last Name         1470706 non-null  object \n",
      " 2   First Name        1470703 non-null  object \n",
      " 3   Salary Paid       1470706 non-null  float64\n",
      " 4   Taxable Benefits  1470706 non-null  float64\n",
      " 5   Employer          1470706 non-null  object \n",
      " 6   Job Title         1470706 non-null  object \n",
      " 7   Calendar Year     1470706 non-null  int64  \n",
      "dtypes: float64(2), int64(1), object(5)\n",
      "memory usage: 89.8+ MB\n"
     ]
    }
   ],
   "source": [
    "#review data types\n",
    "sunshine_data_df.info()\n"
   ]
  },
  {
   "cell_type": "code",
   "execution_count": 6,
   "id": "152ad5a1",
   "metadata": {},
   "outputs": [
    {
     "name": "stdout",
     "output_type": "stream",
     "text": [
      "Column Sector has 0null values\n",
      "Column Last Name has 0null values\n",
      "Column First Name has 3null values\n",
      "Column Salary Paid has 0null values\n",
      "Column Taxable Benefits has 0null values\n",
      "Column Employer has 0null values\n",
      "Column Job Title has 0null values\n",
      "Column Calendar Year has 0null values\n"
     ]
    }
   ],
   "source": [
    "#find null values\n",
    "for column in sunshine_data_df.columns:\n",
    "    print(f\"Column {column} has {sunshine_data_df[column].isnull().sum()}null values\")"
   ]
  },
  {
   "cell_type": "code",
   "execution_count": 7,
   "id": "12a3be8c",
   "metadata": {},
   "outputs": [],
   "source": [
    "# Drop all rows with missing information\n",
    "sunshine_data_df = sunshine_data_df.dropna(how='any')"
   ]
  },
  {
   "cell_type": "code",
   "execution_count": 8,
   "id": "05100db8",
   "metadata": {},
   "outputs": [
    {
     "name": "stdout",
     "output_type": "stream",
     "text": [
      "Column Sector has 0null values\n",
      "Column Last Name has 0null values\n",
      "Column First Name has 0null values\n",
      "Column Salary Paid has 0null values\n",
      "Column Taxable Benefits has 0null values\n",
      "Column Employer has 0null values\n",
      "Column Job Title has 0null values\n",
      "Column Calendar Year has 0null values\n"
     ]
    }
   ],
   "source": [
    "# check that there are no null values\n",
    "for column in sunshine_data_df.columns:\n",
    "    print(f\"Column {column} has {sunshine_data_df[column].isnull().sum()}null values\")"
   ]
  },
  {
   "cell_type": "code",
   "execution_count": 10,
   "id": "46eb5f05",
   "metadata": {},
   "outputs": [
    {
     "data": {
      "text/plain": [
       "0            robert\n",
       "1          raymonde\n",
       "2            philip\n",
       "3            robert\n",
       "4             glenn\n",
       "             ...   \n",
       "1470701     georg r\n",
       "1470702     michael\n",
       "1470703      peer c\n",
       "1470704      detlev\n",
       "1470705        joel\n",
       "Name: First Name, Length: 1470703, dtype: object"
      ]
     },
     "execution_count": 10,
     "metadata": {},
     "output_type": "execute_result"
    }
   ],
   "source": [
    "# sunshine_data_df['First Name'].str.lower()  ## for consolidated 1996 to 2019\n",
    "sunshine_data_df['First Name'].str.lower()"
   ]
  },
  {
   "cell_type": "code",
   "execution_count": null,
   "id": "e855d1be",
   "metadata": {},
   "outputs": [],
   "source": [
    "#Change Salary to numeric\n",
    "# Use pd.to_numeric() method to convert the datatype of the Amount column\n",
    "# df['Amount'] = pd.to_numeric(df['Amount'])\n",
    "sunshine_data_df['Salary'] = sunshine_data_df['Salary'].astype(str). astype(int)"
   ]
  },
  {
   "cell_type": "markdown",
   "id": "dda6e9a9",
   "metadata": {},
   "source": [
    "# Clean First Name Column"
   ]
  },
  {
   "cell_type": "code",
   "execution_count": null,
   "id": "2e75a707",
   "metadata": {},
   "outputs": [],
   "source": [
    "#Create an Original First Name column\n",
    "\n"
   ]
  },
  {
   "cell_type": "code",
   "execution_count": 14,
   "id": "2001c64c",
   "metadata": {},
   "outputs": [
    {
     "data": {
      "text/plain": [
       "david        27551\n",
       "john         26541\n",
       "michael      26074\n",
       "robert       21602\n",
       "paul         16261\n",
       "             ...  \n",
       "olu              1\n",
       "jl               1\n",
       "lise-anne        1\n",
       "shems            1\n",
       "arda             1\n",
       "Name: First Name, Length: 62548, dtype: int64"
      ]
     },
     "execution_count": 14,
     "metadata": {},
     "output_type": "execute_result"
    }
   ],
   "source": [
    "# Display an overview of the First Name column...view with all lower case\n",
    "# Do a count on all first names\n",
    "# first_count=sunshine_data_df['First Name'].str.lower().value_counts()\n",
    "first_count=sunshine_data_df['First Name'].str.lower().value_counts()\n",
    "first_count"
   ]
  },
  {
   "cell_type": "code",
   "execution_count": 15,
   "id": "8916595a",
   "metadata": {},
   "outputs": [
    {
     "data": {
      "text/html": [
       "<div>\n",
       "<style scoped>\n",
       "    .dataframe tbody tr th:only-of-type {\n",
       "        vertical-align: middle;\n",
       "    }\n",
       "\n",
       "    .dataframe tbody tr th {\n",
       "        vertical-align: top;\n",
       "    }\n",
       "\n",
       "    .dataframe thead th {\n",
       "        text-align: right;\n",
       "    }\n",
       "</style>\n",
       "<table border=\"1\" class=\"dataframe\">\n",
       "  <thead>\n",
       "    <tr style=\"text-align: right;\">\n",
       "      <th></th>\n",
       "      <th>first_name_counts</th>\n",
       "    </tr>\n",
       "  </thead>\n",
       "  <tbody>\n",
       "    <tr>\n",
       "      <th>david</th>\n",
       "      <td>27551</td>\n",
       "    </tr>\n",
       "    <tr>\n",
       "      <th>john</th>\n",
       "      <td>26541</td>\n",
       "    </tr>\n",
       "    <tr>\n",
       "      <th>michael</th>\n",
       "      <td>26074</td>\n",
       "    </tr>\n",
       "    <tr>\n",
       "      <th>robert</th>\n",
       "      <td>21602</td>\n",
       "    </tr>\n",
       "    <tr>\n",
       "      <th>paul</th>\n",
       "      <td>16261</td>\n",
       "    </tr>\n",
       "    <tr>\n",
       "      <th>...</th>\n",
       "      <td>...</td>\n",
       "    </tr>\n",
       "    <tr>\n",
       "      <th>olu</th>\n",
       "      <td>1</td>\n",
       "    </tr>\n",
       "    <tr>\n",
       "      <th>jl</th>\n",
       "      <td>1</td>\n",
       "    </tr>\n",
       "    <tr>\n",
       "      <th>lise-anne</th>\n",
       "      <td>1</td>\n",
       "    </tr>\n",
       "    <tr>\n",
       "      <th>shems</th>\n",
       "      <td>1</td>\n",
       "    </tr>\n",
       "    <tr>\n",
       "      <th>arda</th>\n",
       "      <td>1</td>\n",
       "    </tr>\n",
       "  </tbody>\n",
       "</table>\n",
       "<p>62548 rows × 1 columns</p>\n",
       "</div>"
      ],
      "text/plain": [
       "           first_name_counts\n",
       "david                  27551\n",
       "john                   26541\n",
       "michael                26074\n",
       "robert                 21602\n",
       "paul                   16261\n",
       "...                      ...\n",
       "olu                        1\n",
       "jl                         1\n",
       "lise-anne                  1\n",
       "shems                      1\n",
       "arda                       1\n",
       "\n",
       "[62548 rows x 1 columns]"
      ]
     },
     "execution_count": 15,
     "metadata": {},
     "output_type": "execute_result"
    }
   ],
   "source": [
    "# Creating a new DataFrame using both duration and count\n",
    "# urban_ride_count=urban_cities_df.groupby([\"city\"]).count()[\"ride_id\"]\n",
    "# first_name_count=sunshine_data_df.groupby([\"First Name\"]).count()[\"First Name\"]\n",
    "first_name_table = pd.DataFrame({\"first_name_counts\": first_count})\n",
    "first_name_table"
   ]
  },
  {
   "cell_type": "code",
   "execution_count": null,
   "id": "2f1fb8c5",
   "metadata": {},
   "outputs": [],
   "source": [
    "#Copy First Name column and create a Clean_first_name columns 1 and 2#### figure out code to copy an entire column\n",
    "sunshine_data_df.insert(2,\"first_name_clean_1\", str, allow_duplicates=False)\n",
    "sunshine_data_df.head()"
   ]
  },
  {
   "cell_type": "code",
   "execution_count": null,
   "id": "d977cdc8",
   "metadata": {},
   "outputs": [],
   "source": [
    "# Review first name character count to clean all 1st names with initials only, first name with initials etc.\n",
    "#1) where 1 letter, make separate df for cleansing - use history with last name + first initial( + job title) to correct for first name\n",
    "#2) where 2 letters, review for valid first name Example Ed, add to separate df for cleansing usig above logic to correct where possible\n",
    "#3) where letter followed with \".\", add to separate df for cleansing usig above logic to correct where possible"
   ]
  },
  {
   "cell_type": "code",
   "execution_count": null,
   "id": "6a640949",
   "metadata": {},
   "outputs": [],
   "source": [
    "# # Cleaning First Name with titles and Replacing Substrings in a Python String\n",
    "# # Add each prefix and suffix to remove to a list.\n",
    "prefixes_suffixes = [\"dr. \", \"dr \",\"-\", \"jr. \",\".\", \"ms. \", \"md. \", \"mr. \", \"(dr)\", \"(\", \")\"]\n",
    "\n",
    "# # Iterate through the words in the \"prefixes_suffixes\" list and replace them with an empty space, \"\".\n",
    "for word in prefixes_suffixes:\n",
    "    sunshine_data_df[\"First Name\"] = sunshine_data_df[\"First Name\"].str.replace(word,\"\")\n"
   ]
  },
  {
   "cell_type": "code",
   "execution_count": null,
   "id": "4ac5e172",
   "metadata": {},
   "outputs": [],
   "source": [
    "#Create new column called sector category.  Update columns based on sector matching"
   ]
  },
  {
   "cell_type": "code",
   "execution_count": null,
   "id": "362aecef",
   "metadata": {},
   "outputs": [],
   "source": [
    "#review unique sector to make categories to match NAICS\n",
    "sunshine_data_df['Sector'].unique()"
   ]
  },
  {
   "cell_type": "code",
   "execution_count": null,
   "id": "1ef5d5f1",
   "metadata": {},
   "outputs": [],
   "source": [
    "#Perform first name cleansing activities"
   ]
  },
  {
   "cell_type": "code",
   "execution_count": null,
   "id": "f70b6552",
   "metadata": {},
   "outputs": [],
   "source": [
    "#Create LastName_FirstName concatenation column ## changed to match 2020 csv\n",
    "sunshine_data_df[\"Last_First_Name\"]=sunshine_data_df[\"Last name\"]+\"_\"+sunshine_data_df[\"First name\"]\n",
    "sunshine_data_df.head()"
   ]
  },
  {
   "cell_type": "code",
   "execution_count": null,
   "id": "2e39a75d",
   "metadata": {},
   "outputs": [],
   "source": [
    "#review job_title\n",
    "job_title=sunshine_data_df['Job Title'].unique().tolist()\n",
    "job_title"
   ]
  },
  {
   "cell_type": "code",
   "execution_count": null,
   "id": "552ce11c",
   "metadata": {},
   "outputs": [],
   "source": [
    "# Create Empty Gender, Age, City Location columns ******how do you assign datatype????*****\n",
    "# sunshine_data_df.insert(4,\"Age\", float, allow_duplicates=False)\n",
    "# sunshine_data_df.insert(2,\"Gender\", str, allow_duplicates=False)\n",
    "sunshine_data_df.head()\n",
    "sunshine_data_df.dtypes"
   ]
  },
  {
   "cell_type": "code",
   "execution_count": null,
   "id": "90bc8e60",
   "metadata": {},
   "outputs": [],
   "source": [
    "sunshine_data_df.insert(2,\"Gender\", str, allow_duplicates=False)\n",
    "sunshine_data_df.head()"
   ]
  },
  {
   "cell_type": "code",
   "execution_count": null,
   "id": "f2f2d838",
   "metadata": {},
   "outputs": [],
   "source": [
    "sunshine_data_df.insert(9,\"City\", str, allow_duplicates=False)\n",
    "sunshine_data_df.head()"
   ]
  },
  {
   "cell_type": "code",
   "execution_count": null,
   "id": "013094b8",
   "metadata": {},
   "outputs": [],
   "source": [
    "#Verify no duplicate entries of LastName_FirstName + year + title + employer\n",
    "#need to rewrite code\n",
    "\n",
    "print(f'Duplicate entries: {sunshine_data_df().sum()}')"
   ]
  },
  {
   "cell_type": "code",
   "execution_count": null,
   "id": "7a29ef87",
   "metadata": {},
   "outputs": [],
   "source": [
    "#Format salary to iclude $  and ,\n"
   ]
  },
  {
   "cell_type": "code",
   "execution_count": null,
   "id": "8c2e63c4",
   "metadata": {},
   "outputs": [],
   "source": [
    "# Reorder the columns in the sunshine_data DataFrame.\n",
    "sunshine_data_df = sunshine_data_df.reindex(columns=['Calendar Year','Sector' ,'employer', 'Job title','Last_First_Name', 'Last Name', 'First name', 'first_name_clean','Salary', 'Benefits'])"
   ]
  },
  {
   "cell_type": "code",
   "execution_count": null,
   "id": "7a87ccfd",
   "metadata": {},
   "outputs": [],
   "source": [
    "# Rename the columns in the sunshine_data DataFrame.### changed to match 2020 data\n",
    "sunshine_data_df.rename({'Calendar Year':'year',\n",
    "                      'Sector':'sector',\n",
    "                      'Employer': 'employer',\n",
    "                      'Job title':'job_title',\n",
    "                      'Last_First_Name':'last_first_name',\n",
    "                      'Last Name': 'last_name',\n",
    "                      'First name':'first_name',\n",
    "                      'first_name_clean':'first_name_clean',\n",
    "                      'Last_First_Name':'last_first_name',\n",
    "                      'Salary':'salary_paid',\n",
    "                      'Benefits':'taxable_benefits'\n",
    "                    }, axis='columns', inplace=True)"
   ]
  },
  {
   "cell_type": "code",
   "execution_count": null,
   "id": "10044460",
   "metadata": {},
   "outputs": [],
   "source": [
    "# Export to csv \n",
    "sunshine_data_df.to_csv(\"Clean_SunShine.csv\")\n",
    "sunshine_data_df.head()"
   ]
  }
 ],
 "metadata": {
  "kernelspec": {
   "display_name": "PythonData",
   "language": "python",
   "name": "pythondata"
  },
  "language_info": {
   "codemirror_mode": {
    "name": "ipython",
    "version": 3
   },
   "file_extension": ".py",
   "mimetype": "text/x-python",
   "name": "python",
   "nbconvert_exporter": "python",
   "pygments_lexer": "ipython3",
   "version": "3.7.10"
  }
 },
 "nbformat": 4,
 "nbformat_minor": 5
}
