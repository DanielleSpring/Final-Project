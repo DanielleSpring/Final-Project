{
 "cells": [
  {
   "cell_type": "markdown",
   "id": "ea46abad",
   "metadata": {},
   "source": [
    "# Cleaning of the Sunshine List"
   ]
  },
  {
   "cell_type": "code",
   "execution_count": 1,
   "id": "70ed7aef",
   "metadata": {},
   "outputs": [],
   "source": [
    "#import dependencies\n",
    "import pandas as pd"
   ]
  },
  {
   "cell_type": "code",
   "execution_count": 2,
   "id": "ab29f888",
   "metadata": {},
   "outputs": [],
   "source": [
    "#File to Load 1996 t0 2019 to be used as dummy data\n",
    "sunshine_data_to_load = \"SunShine.csv\""
   ]
  },
  {
   "cell_type": "code",
   "execution_count": 3,
   "id": "0645db3f",
   "metadata": {},
   "outputs": [
    {
     "data": {
      "text/html": [
       "<div>\n",
       "<style scoped>\n",
       "    .dataframe tbody tr th:only-of-type {\n",
       "        vertical-align: middle;\n",
       "    }\n",
       "\n",
       "    .dataframe tbody tr th {\n",
       "        vertical-align: top;\n",
       "    }\n",
       "\n",
       "    .dataframe thead th {\n",
       "        text-align: right;\n",
       "    }\n",
       "</style>\n",
       "<table border=\"1\" class=\"dataframe\">\n",
       "  <thead>\n",
       "    <tr style=\"text-align: right;\">\n",
       "      <th></th>\n",
       "      <th>Sector</th>\n",
       "      <th>Last Name</th>\n",
       "      <th>First Name</th>\n",
       "      <th>Salary Paid</th>\n",
       "      <th>Taxable Benefits</th>\n",
       "      <th>Employer</th>\n",
       "      <th>Job Title</th>\n",
       "      <th>Calendar Year</th>\n",
       "    </tr>\n",
       "  </thead>\n",
       "  <tbody>\n",
       "    <tr>\n",
       "      <th>0</th>\n",
       "      <td>COLLEGES</td>\n",
       "      <td>Gillett</td>\n",
       "      <td>Robert</td>\n",
       "      <td>127332.0</td>\n",
       "      <td>3633.0</td>\n",
       "      <td>Algonquin College of Applied Arts and Technology</td>\n",
       "      <td>President</td>\n",
       "      <td>1996</td>\n",
       "    </tr>\n",
       "    <tr>\n",
       "      <th>1</th>\n",
       "      <td>COLLEGES</td>\n",
       "      <td>Hanson</td>\n",
       "      <td>Raymonde</td>\n",
       "      <td>102999.0</td>\n",
       "      <td>5557.0</td>\n",
       "      <td>Algonquin College of Applied Arts and Technology</td>\n",
       "      <td>V.P., Academic</td>\n",
       "      <td>1996</td>\n",
       "    </tr>\n",
       "    <tr>\n",
       "      <th>2</th>\n",
       "      <td>COLLEGES</td>\n",
       "      <td>Killeen</td>\n",
       "      <td>Philip</td>\n",
       "      <td>183482.0</td>\n",
       "      <td>878.0</td>\n",
       "      <td>Algonquin College of Applied Arts and Technology</td>\n",
       "      <td>Past President</td>\n",
       "      <td>1996</td>\n",
       "    </tr>\n",
       "    <tr>\n",
       "      <th>3</th>\n",
       "      <td>COLLEGES</td>\n",
       "      <td>Mitchelson</td>\n",
       "      <td>Robert</td>\n",
       "      <td>106608.0</td>\n",
       "      <td>5586.0</td>\n",
       "      <td>Algonquin College of Applied Arts and Technology</td>\n",
       "      <td>V.P., Finance &amp; Administration</td>\n",
       "      <td>1996</td>\n",
       "    </tr>\n",
       "    <tr>\n",
       "      <th>4</th>\n",
       "      <td>COLLEGES</td>\n",
       "      <td>Crombie</td>\n",
       "      <td>Glenn</td>\n",
       "      <td>111655.0</td>\n",
       "      <td>3177.0</td>\n",
       "      <td>Cambrian College of Applied Arts &amp; Technology</td>\n",
       "      <td>President</td>\n",
       "      <td>1996</td>\n",
       "    </tr>\n",
       "  </tbody>\n",
       "</table>\n",
       "</div>"
      ],
      "text/plain": [
       "     Sector   Last Name First Name  Salary Paid  Taxable Benefits  \\\n",
       "0  COLLEGES     Gillett     Robert     127332.0            3633.0   \n",
       "1  COLLEGES      Hanson   Raymonde     102999.0            5557.0   \n",
       "2  COLLEGES     Killeen     Philip     183482.0             878.0   \n",
       "3  COLLEGES  Mitchelson     Robert     106608.0            5586.0   \n",
       "4  COLLEGES     Crombie      Glenn     111655.0            3177.0   \n",
       "\n",
       "                                           Employer  \\\n",
       "0  Algonquin College of Applied Arts and Technology   \n",
       "1  Algonquin College of Applied Arts and Technology   \n",
       "2  Algonquin College of Applied Arts and Technology   \n",
       "3  Algonquin College of Applied Arts and Technology   \n",
       "4     Cambrian College of Applied Arts & Technology   \n",
       "\n",
       "                        Job Title  Calendar Year  \n",
       "0                       President           1996  \n",
       "1                  V.P., Academic           1996  \n",
       "2                  Past President           1996  \n",
       "3  V.P., Finance & Administration           1996  \n",
       "4                       President           1996  "
      ]
     },
     "execution_count": 3,
     "metadata": {},
     "output_type": "execute_result"
    }
   ],
   "source": [
    "# 1. Create a DataFrame for the 201908-citibike-tripdata data. \n",
    "sunshine_data_df = pd.read_csv(sunshine_data_to_load)\n",
    "\n",
    "#display the data table for preview\n",
    "sunshine_data_df.head()"
   ]
  },
  {
   "cell_type": "code",
   "execution_count": 4,
   "id": "383d7b2c",
   "metadata": {},
   "outputs": [
    {
     "name": "stdout",
     "output_type": "stream",
     "text": [
      "<class 'pandas.core.frame.DataFrame'>\n",
      "RangeIndex: 1470706 entries, 0 to 1470705\n",
      "Data columns (total 8 columns):\n",
      " #   Column            Non-Null Count    Dtype  \n",
      "---  ------            --------------    -----  \n",
      " 0   Sector            1470706 non-null  object \n",
      " 1   Last Name         1470706 non-null  object \n",
      " 2   First Name        1470703 non-null  object \n",
      " 3   Salary Paid       1470706 non-null  float64\n",
      " 4   Taxable Benefits  1470706 non-null  float64\n",
      " 5   Employer          1470706 non-null  object \n",
      " 6   Job Title         1470706 non-null  object \n",
      " 7   Calendar Year     1470706 non-null  int64  \n",
      "dtypes: float64(2), int64(1), object(5)\n",
      "memory usage: 89.8+ MB\n"
     ]
    }
   ],
   "source": [
    "#review data types\n",
    "sunshine_data_df.info()\n"
   ]
  },
  {
   "cell_type": "code",
   "execution_count": 5,
   "id": "152ad5a1",
   "metadata": {},
   "outputs": [
    {
     "name": "stdout",
     "output_type": "stream",
     "text": [
      "Column Sector has 0null values\n",
      "Column Last Name has 0null values\n",
      "Column First Name has 3null values\n",
      "Column Salary Paid has 0null values\n",
      "Column Taxable Benefits has 0null values\n",
      "Column Employer has 0null values\n",
      "Column Job Title has 0null values\n",
      "Column Calendar Year has 0null values\n"
     ]
    }
   ],
   "source": [
    "#find null values\n",
    "for column in sunshine_data_df.columns:\n",
    "    print(f\"Column {column} has {sunshine_data_df[column].isnull().sum()}null values\")"
   ]
  },
  {
   "cell_type": "code",
   "execution_count": 6,
   "id": "12a3be8c",
   "metadata": {},
   "outputs": [],
   "source": [
    "# Drop all rows with missing information\n",
    "sunshine_data_df = sunshine_data_df.dropna(how='any')"
   ]
  },
  {
   "cell_type": "code",
   "execution_count": 7,
   "id": "05100db8",
   "metadata": {},
   "outputs": [
    {
     "name": "stdout",
     "output_type": "stream",
     "text": [
      "Column Sector has 0null values\n",
      "Column Last Name has 0null values\n",
      "Column First Name has 0null values\n",
      "Column Salary Paid has 0null values\n",
      "Column Taxable Benefits has 0null values\n",
      "Column Employer has 0null values\n",
      "Column Job Title has 0null values\n",
      "Column Calendar Year has 0null values\n"
     ]
    }
   ],
   "source": [
    "# check that there are no null values\n",
    "for column in sunshine_data_df.columns:\n",
    "    print(f\"Column {column} has {sunshine_data_df[column].isnull().sum()}null values\")"
   ]
  },
  {
   "cell_type": "code",
   "execution_count": null,
   "id": "46eb5f05",
   "metadata": {},
   "outputs": [],
   "source": [
    "sunshine_data_df['First Name'].str.lower()"
   ]
  },
  {
   "cell_type": "markdown",
   "id": "dda6e9a9",
   "metadata": {},
   "source": [
    "# Clean First Name Column"
   ]
  },
  {
   "cell_type": "code",
   "execution_count": 21,
   "id": "2001c64c",
   "metadata": {},
   "outputs": [],
   "source": [
    "# Display an overview of the First Name column...view with all lower case\n",
    "# Do a count on all first names\n",
    "first_count=sunshine_data_df['First Name'].str.lower().value_counts()"
   ]
  },
  {
   "cell_type": "code",
   "execution_count": 28,
   "id": "8916595a",
   "metadata": {},
   "outputs": [
    {
     "data": {
      "text/html": [
       "<div>\n",
       "<style scoped>\n",
       "    .dataframe tbody tr th:only-of-type {\n",
       "        vertical-align: middle;\n",
       "    }\n",
       "\n",
       "    .dataframe tbody tr th {\n",
       "        vertical-align: top;\n",
       "    }\n",
       "\n",
       "    .dataframe thead th {\n",
       "        text-align: right;\n",
       "    }\n",
       "</style>\n",
       "<table border=\"1\" class=\"dataframe\">\n",
       "  <thead>\n",
       "    <tr style=\"text-align: right;\">\n",
       "      <th></th>\n",
       "      <th>first_name_counts</th>\n",
       "    </tr>\n",
       "  </thead>\n",
       "  <tbody>\n",
       "    <tr>\n",
       "      <th>david</th>\n",
       "      <td>27551</td>\n",
       "    </tr>\n",
       "    <tr>\n",
       "      <th>john</th>\n",
       "      <td>26541</td>\n",
       "    </tr>\n",
       "    <tr>\n",
       "      <th>michael</th>\n",
       "      <td>26074</td>\n",
       "    </tr>\n",
       "    <tr>\n",
       "      <th>robert</th>\n",
       "      <td>21602</td>\n",
       "    </tr>\n",
       "    <tr>\n",
       "      <th>paul</th>\n",
       "      <td>16261</td>\n",
       "    </tr>\n",
       "  </tbody>\n",
       "</table>\n",
       "</div>"
      ],
      "text/plain": [
       "         first_name_counts\n",
       "david                27551\n",
       "john                 26541\n",
       "michael              26074\n",
       "robert               21602\n",
       "paul                 16261"
      ]
     },
     "execution_count": 28,
     "metadata": {},
     "output_type": "execute_result"
    }
   ],
   "source": [
    "# Creating a new DataFrame using both duration and count\n",
    "first_name_table = pd.DataFrame({\"first_name_counts\": first_count})\n",
    "first_name_table.head()"
   ]
  },
  {
   "cell_type": "code",
   "execution_count": 30,
   "id": "d977cdc8",
   "metadata": {},
   "outputs": [
    {
     "ename": "KeyError",
     "evalue": "'None of [0] are in the columns'",
     "output_type": "error",
     "traceback": [
      "\u001b[1;31m---------------------------------------------------------------------------\u001b[0m",
      "\u001b[1;31mKeyError\u001b[0m                                  Traceback (most recent call last)",
      "\u001b[1;32m<ipython-input-30-ce837a918e3a>\u001b[0m in \u001b[0;36m<module>\u001b[1;34m\u001b[0m\n\u001b[1;32m----> 1\u001b[1;33m \u001b[0mfirst_name_table\u001b[0m\u001b[1;33m.\u001b[0m\u001b[0mset_index\u001b[0m\u001b[1;33m(\u001b[0m\u001b[1;36m0\u001b[0m\u001b[1;33m)\u001b[0m\u001b[1;33m\u001b[0m\u001b[1;33m\u001b[0m\u001b[0m\n\u001b[0m",
      "\u001b[1;32m~\\anaconda3\\envs\\PythonData\\lib\\site-packages\\pandas\\core\\frame.py\u001b[0m in \u001b[0;36mset_index\u001b[1;34m(self, keys, drop, append, inplace, verify_integrity)\u001b[0m\n\u001b[0;32m   4725\u001b[0m \u001b[1;33m\u001b[0m\u001b[0m\n\u001b[0;32m   4726\u001b[0m         \u001b[1;32mif\u001b[0m \u001b[0mmissing\u001b[0m\u001b[1;33m:\u001b[0m\u001b[1;33m\u001b[0m\u001b[1;33m\u001b[0m\u001b[0m\n\u001b[1;32m-> 4727\u001b[1;33m             \u001b[1;32mraise\u001b[0m \u001b[0mKeyError\u001b[0m\u001b[1;33m(\u001b[0m\u001b[1;34mf\"None of {missing} are in the columns\"\u001b[0m\u001b[1;33m)\u001b[0m\u001b[1;33m\u001b[0m\u001b[1;33m\u001b[0m\u001b[0m\n\u001b[0m\u001b[0;32m   4728\u001b[0m \u001b[1;33m\u001b[0m\u001b[0m\n\u001b[0;32m   4729\u001b[0m         \u001b[1;32mif\u001b[0m \u001b[0minplace\u001b[0m\u001b[1;33m:\u001b[0m\u001b[1;33m\u001b[0m\u001b[1;33m\u001b[0m\u001b[0m\n",
      "\u001b[1;31mKeyError\u001b[0m: 'None of [0] are in the columns'"
     ]
    }
   ],
   "source": []
  },
  {
   "cell_type": "code",
   "execution_count": null,
   "id": "4ac5e172",
   "metadata": {},
   "outputs": [],
   "source": [
    "#Create new column called sector category.  Update columns based on sector matching"
   ]
  },
  {
   "cell_type": "code",
   "execution_count": null,
   "id": "362aecef",
   "metadata": {},
   "outputs": [],
   "source": [
    "#review unique sector to make categories to match NAICS\n",
    "sunshine_data_df['Sector'].unique()"
   ]
  },
  {
   "cell_type": "code",
   "execution_count": null,
   "id": "1ef5d5f1",
   "metadata": {},
   "outputs": [],
   "source": [
    "#Perform first name cleansing activities"
   ]
  },
  {
   "cell_type": "code",
   "execution_count": null,
   "id": "f70b6552",
   "metadata": {},
   "outputs": [],
   "source": [
    "#Create LastName_FirstName concatenation column\n",
    "sunshine_data_df[\"Last_First_Name\"]=sunshine_data_df[\"Last Name\"]+\"_\"+sunshine_data_df[\"First Name\"]\n",
    "sunshine_data_df.head()"
   ]
  },
  {
   "cell_type": "code",
   "execution_count": null,
   "id": "2e39a75d",
   "metadata": {},
   "outputs": [],
   "source": [
    "#review job_title\n",
    "job_titlee=sunshine_data_df['Job Title'].unique().tolist()\n",
    "job_title"
   ]
  },
  {
   "cell_type": "code",
   "execution_count": null,
   "id": "552ce11c",
   "metadata": {},
   "outputs": [],
   "source": [
    "# Create Empty Gender, Age, City Location columns ******how do you assign datatype????*****\n",
    "# sunshine_data_df.insert(4,\"Age\", float, allow_duplicates=False)\n",
    "# sunshine_data_df.insert(2,\"Gender\", str, allow_duplicates=False)\n",
    "sunshine_data_df.head()\n",
    "sunshine_data_df.dtypes"
   ]
  },
  {
   "cell_type": "code",
   "execution_count": null,
   "id": "90bc8e60",
   "metadata": {},
   "outputs": [],
   "source": [
    "sunshine_data_df.insert(2,\"Gender\", str, allow_duplicates=False)\n",
    "sunshine_data_df.head()"
   ]
  },
  {
   "cell_type": "code",
   "execution_count": null,
   "id": "f2f2d838",
   "metadata": {},
   "outputs": [],
   "source": [
    "sunshine_data_df.insert(9,\"City\", str, allow_duplicates=False)\n",
    "sunshine_data_df.head()"
   ]
  },
  {
   "cell_type": "code",
   "execution_count": null,
   "id": "013094b8",
   "metadata": {},
   "outputs": [],
   "source": [
    "#Verify no duplicate entries of LastName_FirstName + year + title + employer\n",
    "#need to rewrite code\n",
    "\n",
    "print(f'Duplicate entries: {sunshine_data_df().sum()}')"
   ]
  },
  {
   "cell_type": "code",
   "execution_count": null,
   "id": "7a29ef87",
   "metadata": {},
   "outputs": [],
   "source": [
    "#Format salary to iclude $  and ,\n"
   ]
  },
  {
   "cell_type": "code",
   "execution_count": null,
   "id": "8c2e63c4",
   "metadata": {},
   "outputs": [],
   "source": [
    "#reorder and rename columns\n"
   ]
  },
  {
   "cell_type": "code",
   "execution_count": null,
   "id": "10044460",
   "metadata": {},
   "outputs": [],
   "source": [
    "sunshine_data_df.to_csv(\"Clean_SunShine.csv\")\n",
    "sunshine_data_df.head()"
   ]
  },
  {
   "cell_type": "code",
   "execution_count": null,
   "id": "c8caac91",
   "metadata": {},
   "outputs": [],
   "source": []
  }
 ],
 "metadata": {
  "kernelspec": {
   "display_name": "PythonData",
   "language": "python",
   "name": "pythondata"
  },
  "language_info": {
   "codemirror_mode": {
    "name": "ipython",
    "version": 3
   },
   "file_extension": ".py",
   "mimetype": "text/x-python",
   "name": "python",
   "nbconvert_exporter": "python",
   "pygments_lexer": "ipython3",
   "version": "3.7.10"
  }
 },
 "nbformat": 4,
 "nbformat_minor": 5
}
