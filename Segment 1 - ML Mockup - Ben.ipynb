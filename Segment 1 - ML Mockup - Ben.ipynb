{
 "cells": [
  {
   "cell_type": "code",
   "execution_count": 1,
   "id": "64d2652f",
   "metadata": {},
   "outputs": [],
   "source": [
    "# Import dependencies \n",
    "import random\n",
    "from nltk.corpus import names\n",
    "import nltk\n",
    "import sklearn"
   ]
  },
  {
   "cell_type": "code",
   "execution_count": 2,
   "id": "6c33abb8",
   "metadata": {},
   "outputs": [],
   "source": [
    "# Preparing the list of examples and corresponding class labels for supervised machine learning\n",
    "labeled_names = ([(name, 'male') for name in names.words('male.txt')]+\n",
    "                [(name, 'female') for name in names.words('female.txt')])"
   ]
  },
  {
   "cell_type": "code",
   "execution_count": 3,
   "id": "e58d9d13",
   "metadata": {},
   "outputs": [],
   "source": [
    "# Using random.shuffle to randomly shuffle the two lists created and combined above so that the male names are intertwined with the female names\n",
    "random.shuffle(labeled_names)"
   ]
  },
  {
   "cell_type": "code",
   "execution_count": 4,
   "id": "e4e898d1",
   "metadata": {},
   "outputs": [],
   "source": [
    "# Creating a function to be used in the list comprehension below\n",
    "def gender_features(word):\n",
    "    return {'last letter' :word[-1]}\n",
    "\n",
    "# Using list comprehension + the function created above to return a new list that includes the last letter of each name and the gender from each item in 'labeled_names'\n",
    "featuresets = [(gender_features(n), gender)\n",
    "               for (n, gender)in labeled_names]"
   ]
  },
  {
   "cell_type": "code",
   "execution_count": 5,
   "id": "a3af4f90",
   "metadata": {},
   "outputs": [],
   "source": [
    "# Import dependency for splitting the resulting 'featuresets' list into a training set and a testing set\n",
    "from sklearn.model_selection import train_test_split\n",
    "\n",
    "# Splitting the 'featuresets' list into a training set and a testing set\n",
    "train_set, test_set = sklearn.model_selection.train_test_split(featuresets, test_size=0.3, random_state=1)"
   ]
  },
  {
   "cell_type": "code",
   "execution_count": 15,
   "id": "3a3a2a64",
   "metadata": {},
   "outputs": [],
   "source": [
    "# Instantiating a \"naive Bayes\" classifier instance and training it with 'test_set'\n",
    "classifier = nltk.NaiveBayesClassifier.train(train_set)"
   ]
  },
  {
   "cell_type": "code",
   "execution_count": 21,
   "id": "2c7d9ca6",
   "metadata": {},
   "outputs": [
    {
     "name": "stdout",
     "output_type": "stream",
     "text": [
      "female\n"
     ]
    }
   ],
   "source": [
    "# Example of how we can now use model to predict the gender of any name we give it\n",
    "print(classifier.classify(gender_features('Florence')))"
   ]
  },
  {
   "cell_type": "code",
   "execution_count": 25,
   "id": "cdf0ce62",
   "metadata": {},
   "outputs": [
    {
     "name": "stdout",
     "output_type": "stream",
     "text": [
      "The accuracy of our model using the test_set is: 0.7688758389261745.\n"
     ]
    }
   ],
   "source": [
    "# Evaluating accuracy of model using 'test_set'\n",
    "modelAccuracy = nltk.classify.accuracy(classifier, test_set)\n",
    "\n",
    "print(f\"The accuracy of our model using the test_set is: {modelAccuracy}.\")"
   ]
  }
 ],
 "metadata": {
  "kernelspec": {
   "display_name": "PythonData",
   "language": "python",
   "name": "pythondata"
  },
  "language_info": {
   "codemirror_mode": {
    "name": "ipython",
    "version": 3
   },
   "file_extension": ".py",
   "mimetype": "text/x-python",
   "name": "python",
   "nbconvert_exporter": "python",
   "pygments_lexer": "ipython3",
   "version": "3.10.1"
  }
 },
 "nbformat": 4,
 "nbformat_minor": 5
}
